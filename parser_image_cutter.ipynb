{
 "cells": [
  {
   "cell_type": "code",
   "execution_count": 1,
   "metadata": {},
   "outputs": [],
   "source": [
    "import xmltodict\n",
    "from xml.dom.minidom import parseString\n",
    "import os\n",
    "from PIL import Image\n",
    "import numpy as np\n",
    "import time"
   ]
  },
  {
   "cell_type": "markdown",
   "metadata": {},
   "source": [
    "path, dirs, files: <br>\n",
    "https://code.i-harness.com/de/q/282a0d <br>"
   ]
  },
  {
   "cell_type": "code",
   "execution_count": 2,
   "metadata": {},
   "outputs": [
    {
     "name": "stdout",
     "output_type": "stream",
     "text": [
      "C:/Users/User/Desktop/Laederach/Labels/Background_windowed/\n",
      "['bild_2018-08-08_120001402_o.xml']\n",
      "1\n"
     ]
    }
   ],
   "source": [
    "path_folder = 'C:/Users/User/Desktop/Laederach/Labels/Background_windowed/' # xml path\n",
    "path_folder, dirs, files = next(os.walk(path_folder))\n",
    "number_images = len(files)\n",
    "\n",
    "print(path_folder)\n",
    "print(files)\n",
    "print(number_images)"
   ]
  },
  {
   "cell_type": "markdown",
   "metadata": {},
   "source": [
    "xmltodict: <br>\n",
    "https://docs.python-guide.org/scenarios/xml/ <br>\n",
    "number_objects: <br>\n",
    "https://stackoverflow.com/questions/14897426/counting-number-of-xml-tags-in-python-using-xml-dom-minidom <br>\n",
    "list: <br>\n",
    "https://stackoverflow.com/questions/16435607/range-object-does-not-support-item-assignment-trying-to-use-old-python-code <br>\n",
    "dictionary: <br>\n",
    "https://www.programiz.com/python-programming/nested-dictionary <br>"
   ]
  },
  {
   "cell_type": "markdown",
   "metadata": {},
   "source": [
    "nested dict: <br>\n",
    "https://www.programiz.com/python-programming/nested-dictionary <br>"
   ]
  },
  {
   "cell_type": "code",
   "execution_count": 3,
   "metadata": {},
   "outputs": [],
   "source": [
    "# # example nested dict \n",
    "# b = {0:{'header':{'filename':'wololo'},0:{'xmin':5}}}\n",
    "# for i in range(3):\n",
    "#     b[i] = {'header':{'filename':'wololo'},0:{'xmin':5}}\n",
    "#     for j in range(5):\n",
    "#         b[i][j] = {'xmin':6}\n",
    "        \n",
    "# print(b)"
   ]
  },
  {
   "cell_type": "code",
   "execution_count": 4,
   "metadata": {},
   "outputs": [],
   "source": [
    "# image_dict[Bild]['header'][filename, path, width, heigth, depth, number_objects]\n",
    "# image_dict[Bild][Objekt][name, xmin, ymin, xmax, ymax]\n",
    "image_dict = {0: {'header' : {'filename':'filename', 'path':'path', 'width':'width', 'height':'height', 'depth':'depth', 'number_objects':'number_objects'},\n",
    "                         0 : {'name':'name', 'xmin':0, 'ymin':0, 'xmax':0, 'ymax':0}}}\n",
    "\n",
    "for image in range(number_images):\n",
    "    with open(path_folder + files[image]) as fd:\n",
    "        data = fd.read()\n",
    "        doc = xmltodict.parse(data)\n",
    "        dom = parseString(data)\n",
    "        number_objects = len(dom.getElementsByTagName('object'))\n",
    "\n",
    "        filename = doc['annotation']['filename']\n",
    "        # print(filename)\n",
    "        path = doc['annotation']['path']\n",
    "        # print(path)\n",
    "        width = doc['annotation']['size']['width']\n",
    "        # print(width)\n",
    "        height = doc['annotation']['size']['height']\n",
    "        # print(height)\n",
    "        depth = doc['annotation']['size']['depth']\n",
    "        # print(depth)\n",
    "\n",
    "        #xmin = list(range(number_objects))\n",
    "        #ymin = list(range(number_objects))\n",
    "        #xmax = list(range(number_objects))\n",
    "        #ymax = list(range(number_objects))\n",
    "        #name = list(range(number_objects))\n",
    "        \n",
    "        image_dict[image] = {'header' : {'filename':filename, 'path':path, 'width':width, 'height':height, 'depth':depth, 'number_objects':number_objects},\n",
    "                                    0 : {'name':'name', 'xmin':0, 'ymin':0, 'xmax':0, 'ymax':0}}        \n",
    "        \n",
    "                      \n",
    "        for objects in range(number_objects):\n",
    "            name = doc['annotation']['object'][objects]['name']\n",
    "            xmin = doc['annotation']['object'][objects]['bndbox']['xmin']\n",
    "            ymin = doc['annotation']['object'][objects]['bndbox']['ymin']\n",
    "            xmax = doc['annotation']['object'][objects]['bndbox']['xmax']\n",
    "            ymax = doc['annotation']['object'][objects]['bndbox']['ymax']\n",
    "            # print(name[i], xmin[i], ymin[i], xmax[i], ymax[i])\n",
    "            \n",
    "            image_dict[image][objects] = {'name':name, 'xmin':xmin, 'ymin':ymin, 'xmax':xmax, 'ymax':ymax}\n",
    "        \n",
    "        "
   ]
  },
  {
   "cell_type": "code",
   "execution_count": 5,
   "metadata": {},
   "outputs": [
    {
     "name": "stdout",
     "output_type": "stream",
     "text": [
      "830\n"
     ]
    }
   ],
   "source": [
    "print(doc['annotation']['object'][0]['bndbox']['xmin'])"
   ]
  },
  {
   "cell_type": "code",
   "execution_count": 6,
   "metadata": {},
   "outputs": [
    {
     "name": "stdout",
     "output_type": "stream",
     "text": [
      "{0: {'header': {'filename': 'bild_2018-08-08_120001402_o.bmp', 'path': 'C:\\\\Users\\\\User\\\\Desktop\\\\Laederach\\\\20180810_Histogram_optimized\\\\bild_2018-08-08_120001402_o.bmp', 'width': '1288', 'height': '960', 'depth': '3', 'number_objects': 8}, 0: {'name': 'blue', 'xmin': '830', 'ymin': '376', 'xmax': '1008', 'ymax': '450'}, 1: {'name': 'blue_white', 'xmin': '389', 'ymin': '230', 'xmax': '510', 'ymax': '384'}, 2: {'name': 'blue_white', 'xmin': '873', 'ymin': '118', 'xmax': '962', 'ymax': '169'}, 3: {'name': 'blue_reflection', 'xmin': '426', 'ymin': '631', 'xmax': '528', 'ymax': '727'}, 4: {'name': 'blue_reflection', 'xmin': '1041', 'ymin': '657', 'xmax': '1161', 'ymax': '722'}, 5: {'name': 'blue_middle', 'xmin': '619', 'ymin': '225', 'xmax': '827', 'ymax': '290'}, 6: {'name': 'blue_brown', 'xmin': '370', 'ymin': '4', 'xmax': '499', 'ymax': '58'}, 7: {'name': 'blue_brown_white', 'xmin': '1062', 'ymin': '201', 'xmax': '1277', 'ymax': '262'}}}\n"
     ]
    }
   ],
   "source": [
    "print(image_dict)"
   ]
  },
  {
   "cell_type": "code",
   "execution_count": 7,
   "metadata": {},
   "outputs": [
    {
     "name": "stdout",
     "output_type": "stream",
     "text": [
      "anzahl Bilder:  1\n",
      "anzahl Bilder:  1\n"
     ]
    },
    {
     "ename": "KeyError",
     "evalue": "2",
     "output_type": "error",
     "traceback": [
      "\u001b[1;31m---------------------------------------------------------------------------\u001b[0m",
      "\u001b[1;31mKeyError\u001b[0m                                  Traceback (most recent call last)",
      "\u001b[1;32m<ipython-input-7-5678d85c578f>\u001b[0m in \u001b[0;36m<module>\u001b[1;34m()\u001b[0m\n\u001b[0;32m      1\u001b[0m \u001b[0mprint\u001b[0m\u001b[1;33m(\u001b[0m\u001b[1;34m'anzahl Bilder: '\u001b[0m\u001b[1;33m,\u001b[0m \u001b[0mnumber_images\u001b[0m\u001b[1;33m)\u001b[0m\u001b[1;33m\u001b[0m\u001b[0m\n\u001b[0;32m      2\u001b[0m \u001b[0mprint\u001b[0m\u001b[1;33m(\u001b[0m\u001b[1;34m'anzahl Bilder: '\u001b[0m\u001b[1;33m,\u001b[0m \u001b[0mlen\u001b[0m\u001b[1;33m(\u001b[0m\u001b[0mimage_dict\u001b[0m\u001b[1;33m)\u001b[0m\u001b[1;33m)\u001b[0m\u001b[1;33m\u001b[0m\u001b[0m\n\u001b[1;32m----> 3\u001b[1;33m \u001b[0mprint\u001b[0m\u001b[1;33m(\u001b[0m\u001b[1;34m'filename: '\u001b[0m\u001b[1;33m,\u001b[0m \u001b[0mimage_dict\u001b[0m\u001b[1;33m[\u001b[0m\u001b[1;36m2\u001b[0m\u001b[1;33m]\u001b[0m\u001b[1;33m[\u001b[0m\u001b[1;34m'header'\u001b[0m\u001b[1;33m]\u001b[0m\u001b[1;33m[\u001b[0m\u001b[1;34m'filename'\u001b[0m\u001b[1;33m]\u001b[0m\u001b[1;33m)\u001b[0m\u001b[1;33m\u001b[0m\u001b[0m\n\u001b[0m\u001b[0;32m      4\u001b[0m \u001b[0mprint\u001b[0m\u001b[1;33m(\u001b[0m\u001b[1;34m'name: '\u001b[0m\u001b[1;33m,\u001b[0m \u001b[0mimage_dict\u001b[0m\u001b[1;33m[\u001b[0m\u001b[1;36m2\u001b[0m\u001b[1;33m]\u001b[0m\u001b[1;33m[\u001b[0m\u001b[1;36m3\u001b[0m\u001b[1;33m]\u001b[0m\u001b[1;33m[\u001b[0m\u001b[1;34m'name'\u001b[0m\u001b[1;33m]\u001b[0m\u001b[1;33m)\u001b[0m\u001b[1;33m\u001b[0m\u001b[0m\n",
      "\u001b[1;31mKeyError\u001b[0m: 2"
     ]
    }
   ],
   "source": [
    "print('anzahl Bilder: ', number_images)\n",
    "print('anzahl Bilder: ', len(image_dict))\n",
    "print('filename: ', image_dict[2]['header']['filename'])\n",
    "print('name: ', image_dict[2][3]['name'])"
   ]
  },
  {
   "cell_type": "code",
   "execution_count": 15,
   "metadata": {},
   "outputs": [
    {
     "name": "stdout",
     "output_type": "stream",
     "text": [
      "C:/Users/User/Desktop/Laederach/20180810_Histogram_optimized/\n",
      "['bild_2018-08-08_120001402_o.bmp', 'bild_2018-08-08_120003579_o.bmp', 'bild_2018-08-08_120006027_o.bmp', 'bild_2018-08-08_120008331_o.bmp', 'bild_2018-08-08_120010571_o.bmp', 'bild_2018-08-08_120012955_o.bmp', 'bild_2018-08-08_120015411_o.bmp', 'bild_2018-08-08_120017570_o.bmp', 'bild_2018-08-08_120019978_o.bmp', 'bild_2018-08-08_120021906_o.bmp', 'bild_2018-08-08_120024258_o.bmp', 'bild_2018-08-08_120026835_o.bmp', 'bild_2018-08-08_120029066_o.bmp', 'bild_2018-08-08_120031211_o.bmp', 'bild_2018-08-08_120033426_o.bmp', 'bild_2018-08-08_120035251_o.bmp', 'bild_2018-08-08_120037482_o.bmp', 'bild_2018-08-08_120039626_o.bmp', 'bild_2018-08-08_120041930_o.bmp', 'bild_2018-08-08_120043818_o.bmp', 'bild_2018-08-08_120046011_o.bmp', 'bild_2018-08-08_120050274_o.bmp', 'bild_2018-08-08_120052330_o.bmp', 'bild_2018-08-08_120054602_o.bmp', 'bild_2018-08-08_120056619_o.bmp', 'bild_2018-08-08_120058674_o.bmp', 'bild_2018-08-08_120100539_o.bmp', 'bild_2018-08-08_120103875_o.bmp', 'bild_2018-08-08_120113107_o.bmp', 'bild_2018-08-08_120139706_o.bmp', 'bild_2018-08-08_120142138_o.bmp', 'bild_2018-08-08_120146227_o.bmp', 'bild_2018-08-08_120148315_o.bmp', 'bild_2018-08-08_120150618_o.bmp']\n",
      "34\n"
     ]
    }
   ],
   "source": [
    "path_folder = 'C:/Users/User/Desktop/Laederach/20180810_Histogram_optimized/' # Bilder path\n",
    "folder_B = 'C:/Users/User/Desktop/Laederach/B_o/'\n",
    "folder_H = 'C:/Users/User/Desktop/Laederach/H_o/'\n",
    "folder_K = 'C:/Users/User/Desktop/Laederach/K_o/'\n",
    "folder_O = 'C:/Users/User/Desktop/Laederach/O_o/'\n",
    "folder_try = 'C:/Users/User/Desktop/Laederach/Labels/Background/'\n",
    "path_folder, dirs, files = next(os.walk(path_folder))\n",
    "\n",
    "number_images = len(files)\n",
    "print(path_folder)\n",
    "print(files)\n",
    "print(number_images)"
   ]
  },
  {
   "cell_type": "code",
   "execution_count": 16,
   "metadata": {},
   "outputs": [
    {
     "ename": "KeyError",
     "evalue": "1",
     "output_type": "error",
     "traceback": [
      "\u001b[1;31m---------------------------------------------------------------------------\u001b[0m",
      "\u001b[1;31mKeyError\u001b[0m                                  Traceback (most recent call last)",
      "\u001b[1;32m<ipython-input-16-3450937cfe5f>\u001b[0m in \u001b[0;36m<module>\u001b[1;34m()\u001b[0m\n\u001b[0;32m      4\u001b[0m \u001b[1;32mfor\u001b[0m \u001b[0mimage\u001b[0m \u001b[1;32min\u001b[0m \u001b[0mrange\u001b[0m\u001b[1;33m(\u001b[0m\u001b[0mnumber_images\u001b[0m\u001b[1;33m)\u001b[0m\u001b[1;33m:\u001b[0m\u001b[1;33m\u001b[0m\u001b[0m\n\u001b[0;32m      5\u001b[0m     \u001b[1;32mwith\u001b[0m \u001b[0mImage\u001b[0m\u001b[1;33m.\u001b[0m\u001b[0mopen\u001b[0m\u001b[1;33m(\u001b[0m\u001b[0mpath_folder\u001b[0m \u001b[1;33m+\u001b[0m \u001b[0mfiles\u001b[0m\u001b[1;33m[\u001b[0m\u001b[0mimage\u001b[0m\u001b[1;33m]\u001b[0m\u001b[1;33m)\u001b[0m \u001b[1;32mas\u001b[0m \u001b[0mfile\u001b[0m\u001b[1;33m:\u001b[0m\u001b[1;33m\u001b[0m\u001b[0m\n\u001b[1;32m----> 6\u001b[1;33m         \u001b[0manzahl_objects\u001b[0m \u001b[1;33m=\u001b[0m \u001b[0mimage_dict\u001b[0m\u001b[1;33m[\u001b[0m\u001b[0mimage\u001b[0m\u001b[1;33m]\u001b[0m\u001b[1;33m[\u001b[0m\u001b[1;34m'header'\u001b[0m\u001b[1;33m]\u001b[0m\u001b[1;33m[\u001b[0m\u001b[1;34m'number_objects'\u001b[0m\u001b[1;33m]\u001b[0m\u001b[1;33m\u001b[0m\u001b[0m\n\u001b[0m\u001b[0;32m      7\u001b[0m         \u001b[1;32mfor\u001b[0m \u001b[0mi\u001b[0m \u001b[1;32min\u001b[0m \u001b[0mrange\u001b[0m\u001b[1;33m(\u001b[0m\u001b[0manzahl_objects\u001b[0m\u001b[1;33m)\u001b[0m\u001b[1;33m:\u001b[0m\u001b[1;33m\u001b[0m\u001b[0m\n\u001b[0;32m      8\u001b[0m             \u001b[0mimg\u001b[0m \u001b[1;33m=\u001b[0m \u001b[0mnp\u001b[0m\u001b[1;33m.\u001b[0m\u001b[0marray\u001b[0m\u001b[1;33m(\u001b[0m\u001b[0mfile\u001b[0m\u001b[1;33m)\u001b[0m\u001b[1;33m\u001b[0m\u001b[0m\n",
      "\u001b[1;31mKeyError\u001b[0m: 1"
     ]
    }
   ],
   "source": [
    "rdm_min = 0\n",
    "rdm_max = 999999\n",
    "\n",
    "for image in range(number_images):\n",
    "    with Image.open(path_folder + files[image]) as file:\n",
    "        anzahl_objects = image_dict[image]['header']['number_objects']\n",
    "        for i in range(anzahl_objects):\n",
    "            img = np.array(file)\n",
    "            xmin = int(image_dict[image][i]['xmin'])\n",
    "            ymin = int(image_dict[image][i]['ymin'])\n",
    "            xmax = int(image_dict[image][i]['xmax'])\n",
    "            ymax = int(image_dict[image][i]['ymax'])\n",
    "            name = image_dict[image][i]['name']\n",
    "            img_mini = img[ymin:ymax, xmin:xmax]\n",
    "            img_size_uint8 = Image.fromarray(np.uint8(img_mini))\n",
    "            rdm = np.random.randint(rdm_min, rdm_max)\n",
    "            \n",
    "            if name == 'B':\n",
    "                img_size_uint8.save(folder_B + time.strftime('%Y%m%d') + '_' + f'{rdm:06}' + '_' + name + '.bmp')\n",
    "            elif name == 'H':\n",
    "                img_size_uint8.save(folder_H + time.strftime('%Y%m%d') + '_' + f'{rdm:06}' + '_' + name + '.bmp')\n",
    "            elif name == 'K':\n",
    "                img_size_uint8.save(folder_K + time.strftime('%Y%m%d') + '_' + f'{rdm:06}' + '_' + name + '.bmp')\n",
    "            elif name == 'O':\n",
    "                img_size_uint8.save(folder_O + time.strftime('%Y%m%d') + '_' + f'{rdm:06}' + '_' + name + '.bmp')\n",
    "            else:\n",
    "                img_size_uint8.save(folder_try + time.strftime('%Y%m%d') + '_' + name + '.bmp')\n",
    "            "
   ]
  },
  {
   "cell_type": "code",
   "execution_count": 19,
   "metadata": {},
   "outputs": [],
   "source": [
    "with Image.open(path_folder + files[0]) as file:\n",
    "    img = np.array(file)"
   ]
  },
  {
   "cell_type": "code",
   "execution_count": 11,
   "metadata": {},
   "outputs": [],
   "source": [
    "np.shape(img)\n",
    "x,y,z = np.shape(img)"
   ]
  },
  {
   "cell_type": "code",
   "execution_count": 12,
   "metadata": {},
   "outputs": [
    {
     "name": "stdout",
     "output_type": "stream",
     "text": [
      "960 1288 3\n"
     ]
    },
    {
     "data": {
      "text/plain": [
       "28"
      ]
     },
     "execution_count": 12,
     "metadata": {},
     "output_type": "execute_result"
    }
   ],
   "source": [
    "print(x,y,z)\n",
    "np.random.randint(0, 50)"
   ]
  },
  {
   "cell_type": "code",
   "execution_count": 21,
   "metadata": {},
   "outputs": [
    {
     "name": "stdout",
     "output_type": "stream",
     "text": [
      "{0: {'header': {'filename': '01_Siebdruckvorlage_FS_Laederach_Haselnuss.bmp', 'path': 'C:\\\\Users\\\\User\\\\Desktop\\\\Laederach\\\\Labels\\\\bmp\\\\01_Siebdruckvorlage_FS_Laederach_Haselnuss.bmp', 'width': '4370', 'height': '2953', 'depth': '3', 'number_objects': 2}, 0: {'name': 'Haselnuss', 'xmin': '149', 'ymin': '202', 'xmax': '529', 'ymax': '430'}, 1: {'name': 'Haselnuss_choco', 'xmin': '149', 'ymin': '202', 'xmax': '529', 'ymax': '468'}}}\n"
     ]
    }
   ],
   "source": [
    "print(image_dict)"
   ]
  },
  {
   "cell_type": "code",
   "execution_count": 14,
   "metadata": {},
   "outputs": [
    {
     "name": "stdout",
     "output_type": "stream",
     "text": [
      "50\n"
     ]
    }
   ],
   "source": [
    "print(image_dict[0][i]['xmin'])"
   ]
  },
  {
   "cell_type": "code",
   "execution_count": 15,
   "metadata": {},
   "outputs": [
    {
     "name": "stdout",
     "output_type": "stream",
     "text": [
      "55 311 700 956\n"
     ]
    }
   ],
   "source": [
    "print(xmin,xmax,ymin,ymax)"
   ]
  },
  {
   "cell_type": "code",
   "execution_count": 16,
   "metadata": {},
   "outputs": [
    {
     "ename": "NameError",
     "evalue": "name 'datatyp' is not defined",
     "output_type": "error",
     "traceback": [
      "\u001b[1;31m---------------------------------------------------------------------------\u001b[0m",
      "\u001b[1;31mNameError\u001b[0m                                 Traceback (most recent call last)",
      "\u001b[1;32m<ipython-input-16-af565a923e09>\u001b[0m in \u001b[0;36m<module>\u001b[1;34m()\u001b[0m\n\u001b[1;32m----> 1\u001b[1;33m \u001b[0mdatatyp\u001b[0m\u001b[1;33m(\u001b[0m\u001b[0mxmin\u001b[0m\u001b[1;33m)\u001b[0m\u001b[1;33m\u001b[0m\u001b[0m\n\u001b[0m",
      "\u001b[1;31mNameError\u001b[0m: name 'datatyp' is not defined"
     ]
    }
   ],
   "source": [
    "datatyp(xmin)"
   ]
  },
  {
   "cell_type": "code",
   "execution_count": null,
   "metadata": {},
   "outputs": [],
   "source": [
    "type(xmin)"
   ]
  },
  {
   "cell_type": "code",
   "execution_count": null,
   "metadata": {},
   "outputs": [],
   "source": [
    "type(int(xmin))"
   ]
  },
  {
   "cell_type": "code",
   "execution_count": null,
   "metadata": {},
   "outputs": [],
   "source": [
    "rdm = np.random.randint(0, 999999)\n",
    "f'{rdm:06}'"
   ]
  },
  {
   "cell_type": "code",
   "execution_count": null,
   "metadata": {},
   "outputs": [],
   "source": [
    "print(image_dict)"
   ]
  },
  {
   "cell_type": "code",
   "execution_count": null,
   "metadata": {},
   "outputs": [],
   "source": [
    "image = 1\n",
    "i = 0\n",
    "print(image_dict[image][0]['xmin'], image_dict[image][0]['ymin'], image_dict[image][0]['xmax'], image_dict[image][0]['ymax'], image_dict[image][i]['name'])\n",
    "i = 1\n",
    "print(image_dict[image][i]['xmin'], image_dict[image][i]['ymin'], image_dict[image][i]['xmax'], image_dict[image][i]['ymax'], image_dict[image][i]['name'])\n",
    "i = 2\n",
    "print(image_dict[image][i]['xmin'], image_dict[image][i]['ymin'],image_dict[image][i]['xmax'], image_dict[image][i]['ymax'], image_dict[image][i]['name'])\n",
    "i = 3\n",
    "print(image_dict[image][i]['xmin'], image_dict[image][i]['ymin'],image_dict[image][i]['xmax'], image_dict[image][i]['ymax'], image_dict[image][i]['name'])\n",
    "i = 4\n",
    "print(image_dict[image][i]['xmin'], image_dict[image][i]['ymin'],image_dict[image][i]['xmax'], image_dict[image][i]['ymax'], image_dict[image][i]['name'])\n"
   ]
  },
  {
   "cell_type": "code",
   "execution_count": null,
   "metadata": {},
   "outputs": [],
   "source": []
  },
  {
   "cell_type": "code",
   "execution_count": null,
   "metadata": {},
   "outputs": [],
   "source": []
  },
  {
   "cell_type": "code",
   "execution_count": null,
   "metadata": {},
   "outputs": [],
   "source": []
  },
  {
   "cell_type": "code",
   "execution_count": null,
   "metadata": {},
   "outputs": [],
   "source": []
  },
  {
   "cell_type": "code",
   "execution_count": null,
   "metadata": {},
   "outputs": [],
   "source": []
  },
  {
   "cell_type": "code",
   "execution_count": null,
   "metadata": {},
   "outputs": [],
   "source": []
  },
  {
   "cell_type": "code",
   "execution_count": 24,
   "metadata": {},
   "outputs": [
    {
     "ename": "KeyError",
     "evalue": "1",
     "output_type": "error",
     "traceback": [
      "\u001b[1;31m---------------------------------------------------------------------------\u001b[0m",
      "\u001b[1;31mKeyError\u001b[0m                                  Traceback (most recent call last)",
      "\u001b[1;32m<ipython-input-24-86cd320b6016>\u001b[0m in \u001b[0;36m<module>\u001b[1;34m()\u001b[0m\n\u001b[1;32m----> 1\u001b[1;33m \u001b[0manzahl_objects\u001b[0m \u001b[1;33m=\u001b[0m \u001b[0mimage_dict\u001b[0m\u001b[1;33m[\u001b[0m\u001b[0mimage\u001b[0m\u001b[1;33m]\u001b[0m\u001b[1;33m[\u001b[0m\u001b[1;34m'header'\u001b[0m\u001b[1;33m]\u001b[0m\u001b[1;33m[\u001b[0m\u001b[1;36m2\u001b[0m\u001b[1;33m]\u001b[0m\u001b[1;33m\u001b[0m\u001b[0m\n\u001b[0m",
      "\u001b[1;31mKeyError\u001b[0m: 1"
     ]
    }
   ],
   "source": []
  },
  {
   "cell_type": "code",
   "execution_count": null,
   "metadata": {},
   "outputs": [],
   "source": []
  }
 ],
 "metadata": {
  "kernelspec": {
   "display_name": "Python 3",
   "language": "python",
   "name": "python3"
  },
  "language_info": {
   "codemirror_mode": {
    "name": "ipython",
    "version": 3
   },
   "file_extension": ".py",
   "mimetype": "text/x-python",
   "name": "python",
   "nbconvert_exporter": "python",
   "pygments_lexer": "ipython3",
   "version": "3.6.4"
  }
 },
 "nbformat": 4,
 "nbformat_minor": 2
}
