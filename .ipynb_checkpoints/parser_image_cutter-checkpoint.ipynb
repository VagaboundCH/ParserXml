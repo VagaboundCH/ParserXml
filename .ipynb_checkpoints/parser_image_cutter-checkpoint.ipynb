{
 "cells": [
  {
   "cell_type": "code",
   "execution_count": 10,
   "metadata": {},
   "outputs": [],
   "source": [
    "import xmltodict\n",
    "from xml.dom.minidom import parseString\n",
    "import os\n",
    "from PIL import Image\n",
    "import numpy as np\n",
    "import time"
   ]
  },
  {
   "cell_type": "markdown",
   "metadata": {},
   "source": [
    "path, dirs, files: <br>\n",
    "https://code.i-harness.com/de/q/282a0d <br>"
   ]
  },
  {
   "cell_type": "code",
   "execution_count": 11,
   "metadata": {},
   "outputs": [
    {
     "name": "stdout",
     "output_type": "stream",
     "text": [
      "C:/Users/User/Desktop/Laederach/all_Histogram_optimized_windowed/\n",
      "['bild_2018-08-08_115946010_o.xml', 'bild_2018-08-08_115954331_o.xml', 'bild_2018-08-08_115956970_o.xml', 'bild_2018-08-08_115959147_o.xml', 'bild_2018-08-08_120001402_o.xml', 'bild_2018-08-08_120003579_o.xml', 'bild_2018-08-08_120006027_o.xml', 'bild_2018-08-08_120008331_o.xml', 'bild_2018-08-08_120010571_o.xml', 'bild_2018-08-08_120012955_o.xml', 'bild_2018-08-08_120015411_o.xml', 'bild_2018-08-08_120017570_o.xml', 'bild_2018-08-08_120019978_o.xml', 'bild_2018-08-08_120021906_o.xml', 'bild_2018-08-08_120024258_o.xml', 'bild_2018-08-08_120026835_o.xml', 'bild_2018-08-08_120029066_o.xml', 'bild_2018-08-08_120031211_o.xml', 'bild_2018-08-08_120033426_o.xml', 'bild_2018-08-08_120035251_o.xml', 'bild_2018-08-08_120037482_o.xml', 'bild_2018-08-08_120039626_o.xml', 'bild_2018-08-08_120041930_o.xml', 'bild_2018-08-08_120043818_o.xml', 'bild_2018-08-08_120046011_o.xml', 'bild_2018-08-08_120050274_o.xml', 'bild_2018-08-08_120052330_o.xml', 'bild_2018-08-08_120054602_o.xml', 'bild_2018-08-08_120056619_o.xml', 'bild_2018-08-08_120058674_o.xml', 'bild_2018-08-08_120100539_o.xml', 'bild_2018-08-08_120103875_o.xml', 'bild_2018-08-08_120113107_o.xml', 'bild_2018-08-08_120139706_o.xml', 'bild_2018-08-08_120142138_o.xml', 'bild_2018-08-08_120146227_o.xml', 'bild_2018-08-08_120148315_o.xml', 'bild_2018-08-08_120150618_o.xml']\n",
      "38\n"
     ]
    }
   ],
   "source": [
    "path_folder = 'C:/Users/User/Desktop/Laederach/all_Histogram_optimized_windowed/' # xml path\n",
    "path_folder, dirs, files = next(os.walk(path_folder))\n",
    "number_images = len(files)\n",
    "\n",
    "print(path_folder)\n",
    "print(files)\n",
    "print(number_images)"
   ]
  },
  {
   "cell_type": "markdown",
   "metadata": {},
   "source": [
    "xmltodict: <br>\n",
    "https://docs.python-guide.org/scenarios/xml/ <br>\n",
    "number_objects: <br>\n",
    "https://stackoverflow.com/questions/14897426/counting-number-of-xml-tags-in-python-using-xml-dom-minidom <br>\n",
    "list: <br>\n",
    "https://stackoverflow.com/questions/16435607/range-object-does-not-support-item-assignment-trying-to-use-old-python-code <br>\n",
    "dictionary: <br>\n",
    "https://www.programiz.com/python-programming/nested-dictionary <br>"
   ]
  },
  {
   "cell_type": "markdown",
   "metadata": {},
   "source": [
    "nested dict: <br>\n",
    "https://www.programiz.com/python-programming/nested-dictionary <br>"
   ]
  },
  {
   "cell_type": "code",
   "execution_count": 12,
   "metadata": {},
   "outputs": [],
   "source": [
    "# # example nested dict \n",
    "# b = {0:{'header':{'filename':'wololo'},0:{'xmin':5}}}\n",
    "# for i in range(3):\n",
    "#     b[i] = {'header':{'filename':'wololo'},0:{'xmin':5}}\n",
    "#     for j in range(5):\n",
    "#         b[i][j] = {'xmin':6}\n",
    "        \n",
    "# print(b)"
   ]
  },
  {
   "cell_type": "code",
   "execution_count": 13,
   "metadata": {},
   "outputs": [],
   "source": [
    "# image_dict[Bild]['header'][filename, path, width, heigth, depth, number_objects]\n",
    "# image_dict[Bild][Objekt][name, xmin, ymin, xmax, ymax]\n",
    "image_dict = {0: {'header' : {'filename':'filename', 'path':'path', 'width':'width', 'height':'height', 'depth':'depth', 'number_objects':'number_objects'},\n",
    "                         0 : {'name':'name', 'xmin':0, 'ymin':0, 'xmax':0, 'ymax':0}}}\n",
    "\n",
    "for image in range(number_images):\n",
    "    with open(path_folder + files[image]) as fd:\n",
    "        data = fd.read()\n",
    "        doc = xmltodict.parse(data)\n",
    "        dom = parseString(data)\n",
    "        number_objects = len(dom.getElementsByTagName('object'))\n",
    "\n",
    "        filename = doc['annotation']['filename']\n",
    "        # print(filename)\n",
    "        path = doc['annotation']['path']\n",
    "        # print(path)\n",
    "        width = doc['annotation']['size']['width']\n",
    "        # print(width)\n",
    "        height = doc['annotation']['size']['height']\n",
    "        # print(height)\n",
    "        depth = doc['annotation']['size']['depth']\n",
    "        # print(depth)\n",
    "\n",
    "        #xmin = list(range(number_objects))\n",
    "        #ymin = list(range(number_objects))\n",
    "        #xmax = list(range(number_objects))\n",
    "        #ymax = list(range(number_objects))\n",
    "        #name = list(range(number_objects))\n",
    "        \n",
    "        image_dict[image] = {'header' : {'filename':filename, 'path':path, 'width':width, 'height':height, 'depth':depth, 'number_objects':number_objects},\n",
    "                                    0 : {'name':'name', 'xmin':0, 'ymin':0, 'xmax':0, 'ymax':0}}        \n",
    "        \n",
    "                      \n",
    "        for objects in range(number_objects):\n",
    "            name = doc['annotation']['object'][objects]['name']\n",
    "            xmin = doc['annotation']['object'][objects]['bndbox']['xmin']\n",
    "            ymin = doc['annotation']['object'][objects]['bndbox']['ymin']\n",
    "            xmax = doc['annotation']['object'][objects]['bndbox']['xmax']\n",
    "            ymax = doc['annotation']['object'][objects]['bndbox']['ymax']\n",
    "            # print(name[i], xmin[i], ymin[i], xmax[i], ymax[i])\n",
    "            \n",
    "            image_dict[image][objects] = {'name':name, 'xmin':xmin, 'ymin':ymin, 'xmax':xmax, 'ymax':ymax}\n",
    "        \n",
    "        "
   ]
  },
  {
   "cell_type": "code",
   "execution_count": 14,
   "metadata": {},
   "outputs": [
    {
     "ename": "NameError",
     "evalue": "name 'i' is not defined",
     "output_type": "error",
     "traceback": [
      "\u001b[1;31m---------------------------------------------------------------------------\u001b[0m",
      "\u001b[1;31mNameError\u001b[0m                                 Traceback (most recent call last)",
      "\u001b[1;32m<ipython-input-14-c453ef829416>\u001b[0m in \u001b[0;36m<module>\u001b[1;34m()\u001b[0m\n\u001b[1;32m----> 1\u001b[1;33m \u001b[0mprint\u001b[0m\u001b[1;33m(\u001b[0m\u001b[0mdoc\u001b[0m\u001b[1;33m[\u001b[0m\u001b[1;34m'annotation'\u001b[0m\u001b[1;33m]\u001b[0m\u001b[1;33m[\u001b[0m\u001b[1;34m'object'\u001b[0m\u001b[1;33m]\u001b[0m\u001b[1;33m[\u001b[0m\u001b[0mi\u001b[0m\u001b[1;33m]\u001b[0m\u001b[1;33m[\u001b[0m\u001b[1;34m'bndbox'\u001b[0m\u001b[1;33m]\u001b[0m\u001b[1;33m[\u001b[0m\u001b[1;34m'xmin'\u001b[0m\u001b[1;33m]\u001b[0m\u001b[1;33m)\u001b[0m\u001b[1;33m\u001b[0m\u001b[0m\n\u001b[0m",
      "\u001b[1;31mNameError\u001b[0m: name 'i' is not defined"
     ]
    }
   ],
   "source": [
    "print(doc['annotation']['object'][i]['bndbox']['xmin'])"
   ]
  },
  {
   "cell_type": "code",
   "execution_count": 6,
   "metadata": {},
   "outputs": [
    {
     "name": "stdout",
     "output_type": "stream",
     "text": [
      "{0: {'header': {'filename': 'bild_2018-08-08_115946010.bmp', 'path': 'C:\\\\Users\\\\User\\\\Desktop\\\\Laederach\\\\all_original_size\\\\bild_2018-08-08_115946010.bmp', 'width': '1288', 'height': '960', 'depth': '3', 'number_objects': 10}, 0: {'name': 'H', 'xmin': '369', 'ymin': '649', 'xmax': '625', 'ymax': '905'}, 1: {'name': 'H', 'xmin': '345', 'ymin': '212', 'xmax': '601', 'ymax': '468'}, 2: {'name': 'H', 'xmin': '15', 'ymin': '444', 'xmax': '271', 'ymax': '700'}, 3: {'name': 'H', 'xmin': '697', 'ymin': '400', 'xmax': '953', 'ymax': '656'}, 4: {'name': 'H', 'xmin': '7', 'ymin': '22', 'xmax': '263', 'ymax': '278'}, 5: {'name': 'H', 'xmin': '668', 'ymin': '3', 'xmax': '924', 'ymax': '259'}, 6: {'name': 'H', 'xmin': '1028', 'ymin': '169', 'xmax': '1284', 'ymax': '425'}, 7: {'name': 'H', 'xmin': '1026', 'ymin': '595', 'xmax': '1282', 'ymax': '851'}, 8: {'name': 'H', 'xmin': '718', 'ymin': '700', 'xmax': '975', 'ymax': '956'}, 9: {'name': 'H', 'xmin': '50', 'ymin': '700', 'xmax': '306', 'ymax': '956'}}, 1: {'header': {'filename': 'bild_2018-08-08_115954331.bmp', 'path': 'C:\\\\Users\\\\User\\\\Desktop\\\\Laederach\\\\all_original_size\\\\bild_2018-08-08_115954331.bmp', 'width': '1288', 'height': '960', 'depth': '3', 'number_objects': 11}, 0: {'name': 'H', 'xmin': '374', 'ymin': '651', 'xmax': '630', 'ymax': '907'}, 1: {'name': 'H', 'xmin': '358', 'ymin': '233', 'xmax': '614', 'ymax': '489'}, 2: {'name': 'H', 'xmin': '18', 'ymin': '37', 'xmax': '274', 'ymax': '293'}, 3: {'name': 'H', 'xmin': '27', 'ymin': '451', 'xmax': '283', 'ymax': '707'}, 4: {'name': 'H', 'xmin': '707', 'ymin': '429', 'xmax': '963', 'ymax': '685'}, 5: {'name': 'H', 'xmin': '45', 'ymin': '700', 'xmax': '301', 'ymax': '956'}, 6: {'name': 'H', 'xmin': '718', 'ymin': '701', 'xmax': '974', 'ymax': '957'}, 7: {'name': 'H', 'xmin': '693', 'ymin': '11', 'xmax': '949', 'ymax': '267'}, 8: {'name': 'H', 'xmin': '1026', 'ymin': '207', 'xmax': '1282', 'ymax': '463'}, 9: {'name': 'H', 'xmin': '1028', 'ymin': '626', 'xmax': '1284', 'ymax': '882'}, 10: {'name': 'H', 'xmin': '332', 'ymin': '4', 'xmax': '588', 'ymax': '260'}}, 2: {'header': {'filename': 'bild_2018-08-08_115956970.bmp', 'path': 'C:\\\\Users\\\\User\\\\Desktop\\\\Laederach\\\\all_original_size\\\\bild_2018-08-08_115956970.bmp', 'width': '1288', 'height': '960', 'depth': '3', 'number_objects': 10}, 0: {'name': 'H', 'xmin': '377', 'ymin': '291', 'xmax': '633', 'ymax': '547'}, 1: {'name': 'H', 'xmin': '26', 'ymin': '103', 'xmax': '282', 'ymax': '359'}, 2: {'name': 'H', 'xmin': '52', 'ymin': '524', 'xmax': '308', 'ymax': '780'}, 3: {'name': 'H', 'xmin': '748', 'ymin': '479', 'xmax': '1004', 'ymax': '735'}, 4: {'name': 'H', 'xmin': '719', 'ymin': '62', 'xmax': '975', 'ymax': '316'}, 5: {'name': 'H', 'xmin': '403', 'ymin': '700', 'xmax': '659', 'ymax': '956'}, 6: {'name': 'H', 'xmin': '358', 'ymin': '3', 'xmax': '614', 'ymax': '259'}, 7: {'name': 'H', 'xmin': '1028', 'ymin': '251', 'xmax': '1284', 'ymax': '506'}, 8: {'name': 'H', 'xmin': '1028', 'ymin': '676', 'xmax': '1284', 'ymax': '930'}, 9: {'name': 'H', 'xmin': '1023', 'ymin': '3', 'xmax': '1279', 'ymax': '257'}}, 3: {'header': {'filename': 'bild_2018-08-08_115959147.bmp', 'path': 'C:\\\\Users\\\\User\\\\Desktop\\\\Laederach\\\\all_original_size\\\\bild_2018-08-08_115959147.bmp', 'width': '1288', 'height': '960', 'depth': '3', 'number_objects': 10}, 0: {'name': 'H', 'xmin': '415', 'ymin': '582', 'xmax': '671', 'ymax': '838'}, 1: {'name': 'H', 'xmin': '395', 'ymin': '152', 'xmax': '651', 'ymax': '408'}, 2: {'name': 'H', 'xmin': '68', 'ymin': '390', 'xmax': '324', 'ymax': '646'}, 3: {'name': 'H', 'xmin': '759', 'ymin': '350', 'xmax': '1016', 'ymax': '606'}, 4: {'name': 'H', 'xmin': '772', 'ymin': '701', 'xmax': '1028', 'ymax': '957'}, 5: {'name': 'H', 'xmin': '1026', 'ymin': '543', 'xmax': '1283', 'ymax': '799'}, 6: {'name': 'H', 'xmin': '1027', 'ymin': '115', 'xmax': '1284', 'ymax': '371'}, 7: {'name': 'H', 'xmin': '739', 'ymin': '4', 'xmax': '996', 'ymax': '260'}, 8: {'name': 'H', 'xmin': '46', 'ymin': '3', 'xmax': '302', 'ymax': '259'}, 9: {'name': 'H', 'xmin': '78', 'ymin': '700', 'xmax': '334', 'ymax': '956'}}, 4: {'header': {'filename': 'bild_2018-08-08_120001402.bmp', 'path': 'C:\\\\Users\\\\User\\\\Desktop\\\\Laederach\\\\all_original_size\\\\bild_2018-08-08_120001402.bmp', 'width': '1288', 'height': '960', 'depth': '3', 'number_objects': 12}, 0: {'name': 'O', 'xmin': '327', 'ymin': '651', 'xmax': '583', 'ymax': '907'}, 1: {'name': 'O', 'xmin': '304', 'ymin': '316', 'xmax': '560', 'ymax': '572'}, 2: {'name': 'O', 'xmin': '74', 'ymin': '158', 'xmax': '330', 'ymax': '415'}, 3: {'name': 'O', 'xmin': '91', 'ymin': '494', 'xmax': '348', 'ymax': '750'}, 4: {'name': 'O', 'xmin': '739', 'ymin': '291', 'xmax': '995', 'ymax': '547'}, 5: {'name': 'O', 'xmin': '760', 'ymin': '630', 'xmax': '1017', 'ymax': '886'}, 6: {'name': 'O', 'xmin': '512', 'ymin': '137', 'xmax': '768', 'ymax': '394'}, 7: {'name': 'O', 'xmin': '525', 'ymin': '470', 'xmax': '781', 'ymax': '726'}, 8: {'name': 'O', 'xmin': '954', 'ymin': '450', 'xmax': '1210', 'ymax': '706'}, 9: {'name': 'O', 'xmin': '936', 'ymin': '116', 'xmax': '1192', 'ymax': '370'}, 10: {'name': 'O', 'xmin': '281', 'ymin': '3', 'xmax': '537', 'ymax': '260'}, 11: {'name': 'O', 'xmin': '725', 'ymin': '4', 'xmax': '981', 'ymax': '261'}}, 5: {'header': {'filename': 'bild_2018-08-08_120003579.bmp', 'path': 'C:\\\\Users\\\\User\\\\Desktop\\\\Laederach\\\\all_original_size\\\\bild_2018-08-08_120003579.bmp', 'width': '1288', 'height': '960', 'depth': '3', 'number_objects': 10}, 0: {'name': 'H', 'xmin': '370', 'ymin': '650', 'xmax': '626', 'ymax': '906'}, 1: {'name': 'H', 'xmin': '349', 'ymin': '222', 'xmax': '605', 'ymax': '478'}, 2: {'name': 'H', 'xmin': '25', 'ymin': '442', 'xmax': '281', 'ymax': '698'}, 3: {'name': 'H', 'xmin': '704', 'ymin': '400', 'xmax': '960', 'ymax': '656'}, 4: {'name': 'H', 'xmin': '15', 'ymin': '13', 'xmax': '271', 'ymax': '269'}, 5: {'name': 'H', 'xmin': '58', 'ymin': '701', 'xmax': '314', 'ymax': '957'}, 6: {'name': 'H', 'xmin': '732', 'ymin': '700', 'xmax': '988', 'ymax': '956'}, 7: {'name': 'H', 'xmin': '693', 'ymin': '3', 'xmax': '949', 'ymax': '259'}, 8: {'name': 'H', 'xmin': '1029', 'ymin': '165', 'xmax': '1285', 'ymax': '421'}, 9: {'name': 'H', 'xmin': '1028', 'ymin': '591', 'xmax': '1284', 'ymax': '847'}}, 6: {'header': {'filename': 'bild_2018-08-08_120006027.bmp', 'path': 'C:\\\\Users\\\\User\\\\Desktop\\\\Laederach\\\\all_original_size\\\\bild_2018-08-08_120006027.bmp', 'width': '1288', 'height': '960', 'depth': '3', 'number_objects': 8}, 0: {'name': 'K', 'xmin': '372', 'ymin': '300', 'xmax': '628', 'ymax': '556'}, 1: {'name': 'K', 'xmin': '25', 'ymin': '128', 'xmax': '281', 'ymax': '385'}, 2: {'name': 'K', 'xmin': '28', 'ymin': '564', 'xmax': '284', 'ymax': '820'}, 3: {'name': 'K', 'xmin': '712', 'ymin': '528', 'xmax': '968', 'ymax': '784'}, 4: {'name': 'K', 'xmin': '701', 'ymin': '85', 'xmax': '957', 'ymax': '339'}, 5: {'name': 'K', 'xmin': '1025', 'ymin': '317', 'xmax': '1281', 'ymax': '571'}, 6: {'name': 'K', 'xmin': '1023', 'ymin': '699', 'xmax': '1279', 'ymax': '953'}, 7: {'name': 'K', 'xmin': '383', 'ymin': '694', 'xmax': '639', 'ymax': '950'}}, 7: {'header': {'filename': 'bild_2018-08-08_120008331.bmp', 'path': 'C:\\\\Users\\\\User\\\\Desktop\\\\Laederach\\\\all_original_size\\\\bild_2018-08-08_120008331.bmp', 'width': '1288', 'height': '960', 'depth': '3', 'number_objects': 15}, 0: {'name': 'B', 'xmin': '224', 'ymin': '608', 'xmax': '480', 'ymax': '864'}, 1: {'name': 'B', 'xmin': '200', 'ymin': '247', 'xmax': '456', 'ymax': '503'}, 2: {'name': 'B', 'xmin': '517', 'ymin': '407', 'xmax': '773', 'ymax': '663'}, 3: {'name': 'B', 'xmin': '829', 'ymin': '577', 'xmax': '1086', 'ymax': '833'}, 4: {'name': 'B', 'xmin': '814', 'ymin': '206', 'xmax': '1071', 'ymax': '462'}, 5: {'name': 'B', 'xmin': '484', 'ymin': '42', 'xmax': '740', 'ymax': '296'}, 6: {'name': 'B', 'xmin': '187', 'ymin': '5', 'xmax': '443', 'ymax': '259'}, 7: {'name': 'B', 'xmin': '10', 'ymin': '77', 'xmax': '266', 'ymax': '333'}, 8: {'name': 'B', 'xmin': '8', 'ymin': '441', 'xmax': '264', 'ymax': '697'}, 9: {'name': 'B', 'xmin': '6', 'ymin': '698', 'xmax': '262', 'ymax': '954'}, 10: {'name': 'B', 'xmin': '549', 'ymin': '699', 'xmax': '805', 'ymax': '955'}, 11: {'name': 'B', 'xmin': '1027', 'ymin': '699', 'xmax': '1284', 'ymax': '955'}, 12: {'name': 'B', 'xmin': '1025', 'ymin': '384', 'xmax': '1282', 'ymax': '640'}, 13: {'name': 'B', 'xmin': '1025', 'ymin': '18', 'xmax': '1282', 'ymax': '274'}, 14: {'name': 'B', 'xmin': '793', 'ymin': '6', 'xmax': '1049', 'ymax': '260'}}, 8: {'header': {'filename': 'bild_2018-08-08_120010571.bmp', 'path': 'C:\\\\Users\\\\User\\\\Desktop\\\\Laederach\\\\all_original_size\\\\bild_2018-08-08_120010571.bmp', 'width': '1288', 'height': '960', 'depth': '3', 'number_objects': 10}, 0: {'name': 'K', 'xmin': '376', 'ymin': '547', 'xmax': '632', 'ymax': '803'}, 1: {'name': 'K', 'xmin': '357', 'ymin': '123', 'xmax': '613', 'ymax': '379'}, 2: {'name': 'K', 'xmin': '27', 'ymin': '389', 'xmax': '283', 'ymax': '645'}, 3: {'name': 'K', 'xmin': '698', 'ymin': '339', 'xmax': '954', 'ymax': '595'}, 4: {'name': 'K', 'xmin': '8', 'ymin': '3', 'xmax': '264', 'ymax': '259'}, 5: {'name': 'K', 'xmin': '674', 'ymin': '5', 'xmax': '930', 'ymax': '261'}, 6: {'name': 'K', 'xmin': '1021', 'ymin': '68', 'xmax': '1277', 'ymax': '324'}, 7: {'name': 'K', 'xmin': '1022', 'ymin': '505', 'xmax': '1278', 'ymax': '761'}, 8: {'name': 'K', 'xmin': '716', 'ymin': '696', 'xmax': '972', 'ymax': '952'}, 9: {'name': 'K', 'xmin': '52', 'ymin': '701', 'xmax': '308', 'ymax': '957'}}, 9: {'header': {'filename': 'bild_2018-08-08_120012955.bmp', 'path': 'C:\\\\Users\\\\User\\\\Desktop\\\\Laederach\\\\all_original_size\\\\bild_2018-08-08_120012955.bmp', 'width': '1288', 'height': '960', 'depth': '3', 'number_objects': 15}, 0: {'name': 'O', 'xmin': '164', 'ymin': '529', 'xmax': '420', 'ymax': '785'}, 1: {'name': 'O', 'xmin': '133', 'ymin': '202', 'xmax': '389', 'ymax': '458'}, 2: {'name': 'O', 'xmin': '600', 'ymin': '489', 'xmax': '856', 'ymax': '745'}, 3: {'name': 'O', 'xmin': '1008', 'ymin': '486', 'xmax': '1264', 'ymax': '742'}, 4: {'name': 'O', 'xmin': '398', 'ymin': '681', 'xmax': '654', 'ymax': '937'}, 5: {'name': 'O', 'xmin': '1007', 'ymin': '148', 'xmax': '1263', 'ymax': '404'}, 6: {'name': 'O', 'xmin': '570', 'ymin': '168', 'xmax': '826', 'ymax': '423'}, 7: {'name': 'O', 'xmin': '360', 'ymin': '19', 'xmax': '616', 'ymax': '275'}, 8: {'name': 'O', 'xmin': '372', 'ymin': '358', 'xmax': '628', 'ymax': '614'}, 9: {'name': 'O', 'xmin': '800', 'ymin': '328', 'xmax': '1057', 'ymax': '584'}, 10: {'name': 'O', 'xmin': '803', 'ymin': '656', 'xmax': '1060', 'ymax': '912'}, 11: {'name': 'O', 'xmin': '5', 'ymin': '373', 'xmax': '261', 'ymax': '629'}, 12: {'name': 'O', 'xmin': '5', 'ymin': '700', 'xmax': '261', 'ymax': '956'}, 13: {'name': 'O', 'xmin': '4', 'ymin': '4', 'xmax': '260', 'ymax': '260'}, 14: {'name': 'O', 'xmin': '774', 'ymin': '4', 'xmax': '1031', 'ymax': '260'}}, 10: {'header': {'filename': 'bild_2018-08-08_120015411.bmp', 'path': 'C:\\\\Users\\\\User\\\\Desktop\\\\Laederach\\\\all_original_size\\\\bild_2018-08-08_120015411.bmp', 'width': '1288', 'height': '960', 'depth': '3', 'number_objects': 14}, 0: {'name': 'B', 'xmin': '242', 'ymin': '604', 'xmax': '498', 'ymax': '860'}, 1: {'name': 'B', 'xmin': '218', 'ymin': '238', 'xmax': '474', 'ymax': '494'}, 2: {'name': 'B', 'xmin': '529', 'ymin': '405', 'xmax': '785', 'ymax': '661'}, 3: {'name': 'B', 'xmin': '844', 'ymin': '572', 'xmax': '1100', 'ymax': '828'}, 4: {'name': 'B', 'xmin': '504', 'ymin': '40', 'xmax': '760', 'ymax': '294'}, 5: {'name': 'B', 'xmin': '797', 'ymin': '201', 'xmax': '1053', 'ymax': '456'}, 6: {'name': 'B', 'xmin': '4', 'ymin': '444', 'xmax': '260', 'ymax': '700'}, 7: {'name': 'B', 'xmin': '7', 'ymin': '85', 'xmax': '263', 'ymax': '341'}, 8: {'name': 'B', 'xmin': '3', 'ymin': '701', 'xmax': '259', 'ymax': '957'}, 9: {'name': 'B', 'xmin': '559', 'ymin': '701', 'xmax': '815', 'ymax': '957'}, 10: {'name': 'B', 'xmin': '1027', 'ymin': '18', 'xmax': '1283', 'ymax': '274'}, 11: {'name': 'B', 'xmin': '1027', 'ymin': '375', 'xmax': '1283', 'ymax': '630'}, 12: {'name': 'B', 'xmin': '1028', 'ymin': '702', 'xmax': '1284', 'ymax': '957'}, 13: {'name': 'B', 'xmin': '186', 'ymin': '3', 'xmax': '442', 'ymax': '257'}}, 11: {'header': {'filename': 'bild_2018-08-08_120017570.bmp', 'path': 'C:\\\\Users\\\\User\\\\Desktop\\\\Laederach\\\\all_original_size\\\\bild_2018-08-08_120017570.bmp', 'width': '1288', 'height': '960', 'depth': '3', 'number_objects': 10}, 0: {'name': 'H', 'xmin': '402', 'ymin': '643', 'xmax': '658', 'ymax': '899'}, 1: {'name': 'H', 'xmin': '388', 'ymin': '213', 'xmax': '644', 'ymax': '469'}, 2: {'name': 'H', 'xmin': '32', 'ymin': '18', 'xmax': '288', 'ymax': '274'}, 3: {'name': 'H', 'xmin': '47', 'ymin': '440', 'xmax': '303', 'ymax': '696'}, 4: {'name': 'H', 'xmin': '735', 'ymin': '407', 'xmax': '991', 'ymax': '663'}, 5: {'name': 'H', 'xmin': '64', 'ymin': '697', 'xmax': '320', 'ymax': '953'}, 6: {'name': 'H', 'xmin': '743', 'ymin': '701', 'xmax': '999', 'ymax': '957'}, 7: {'name': 'H', 'xmin': '1028', 'ymin': '591', 'xmax': '1284', 'ymax': '847'}, 8: {'name': 'H', 'xmin': '1025', 'ymin': '183', 'xmax': '1281', 'ymax': '439'}, 9: {'name': 'H', 'xmin': '708', 'ymin': '7', 'xmax': '964', 'ymax': '263'}}, 12: {'header': {'filename': 'bild_2018-08-08_120019978.bmp', 'path': 'C:\\\\Users\\\\User\\\\Desktop\\\\Laederach\\\\all_original_size\\\\bild_2018-08-08_120019978.bmp', 'width': '1288', 'height': '960', 'depth': '3', 'number_objects': 10}, 0: {'name': 'K', 'xmin': '401', 'ymin': '526', 'xmax': '657', 'ymax': '782'}, 1: {'name': 'K', 'xmin': '379', 'ymin': '111', 'xmax': '635', 'ymax': '367'}, 2: {'name': 'K', 'xmin': '50', 'ymin': '358', 'xmax': '306', 'ymax': '614'}, 3: {'name': 'K', 'xmin': '727', 'ymin': '314', 'xmax': '983', 'ymax': '570'}, 4: {'name': 'K', 'xmin': '29', 'ymin': '4', 'xmax': '285', 'ymax': '260'}, 5: {'name': 'K', 'xmin': '72', 'ymin': '700', 'xmax': '328', 'ymax': '956'}, 6: {'name': 'K', 'xmin': '763', 'ymin': '700', 'xmax': '1019', 'ymax': '956'}, 7: {'name': 'K', 'xmin': '1028', 'ymin': '47', 'xmax': '1284', 'ymax': '303'}, 8: {'name': 'K', 'xmin': '1027', 'ymin': '480', 'xmax': '1283', 'ymax': '736'}, 9: {'name': 'K', 'xmin': '713', 'ymin': '4', 'xmax': '970', 'ymax': '260'}}, 13: {'header': {'filename': 'bild_2018-08-08_120021906.bmp', 'path': 'C:\\\\Users\\\\User\\\\Desktop\\\\Laederach\\\\all_original_size\\\\bild_2018-08-08_120021906.bmp', 'width': '1288', 'height': '960', 'depth': '3', 'number_objects': 12}, 0: {'name': 'B', 'xmin': '263', 'ymin': '440', 'xmax': '519', 'ymax': '696'}, 1: {'name': 'B', 'xmin': '248', 'ymin': '68', 'xmax': '504', 'ymax': '324'}, 2: {'name': 'B', 'xmin': '574', 'ymin': '244', 'xmax': '830', 'ymax': '500'}, 3: {'name': 'B', 'xmin': '862', 'ymin': '30', 'xmax': '1119', 'ymax': '286'}, 4: {'name': 'B', 'xmin': '889', 'ymin': '401', 'xmax': '1146', 'ymax': '657'}, 5: {'name': 'B', 'xmin': '592', 'ymin': '593', 'xmax': '848', 'ymax': '849'}, 6: {'name': 'B', 'xmin': '6', 'ymin': '271', 'xmax': '262', 'ymax': '527'}, 7: {'name': 'B', 'xmin': '3', 'ymin': '3', 'xmax': '259', 'ymax': '259'}, 8: {'name': 'B', 'xmin': '4', 'ymin': '630', 'xmax': '260', 'ymax': '886'}, 9: {'name': 'B', 'xmin': '285', 'ymin': '696', 'xmax': '541', 'ymax': '952'}, 10: {'name': 'B', 'xmin': '894', 'ymin': '700', 'xmax': '1150', 'ymax': '956'}, 11: {'name': 'B', 'xmin': '551', 'ymin': '4', 'xmax': '808', 'ymax': '260'}}, 14: {'header': {'filename': 'bild_2018-08-08_120024258.bmp', 'path': 'C:\\\\Users\\\\User\\\\Desktop\\\\Laederach\\\\all_original_size\\\\bild_2018-08-08_120024258.bmp', 'width': '1288', 'height': '960', 'depth': '3', 'number_objects': 10}, 0: {'name': 'H', 'xmin': '398', 'ymin': '644', 'xmax': '654', 'ymax': '900'}, 1: {'name': 'H', 'xmin': '399', 'ymin': '210', 'xmax': '655', 'ymax': '466'}, 2: {'name': 'H', 'xmin': '39', 'ymin': '18', 'xmax': '295', 'ymax': '274'}, 3: {'name': 'H', 'xmin': '57', 'ymin': '427', 'xmax': '313', 'ymax': '683'}, 4: {'name': 'H', 'xmin': '732', 'ymin': '406', 'xmax': '988', 'ymax': '662'}, 5: {'name': 'H', 'xmin': '718', 'ymin': '3', 'xmax': '974', 'ymax': '259'}, 6: {'name': 'H', 'xmin': '1026', 'ymin': '173', 'xmax': '1282', 'ymax': '429'}, 7: {'name': 'H', 'xmin': '1027', 'ymin': '589', 'xmax': '1283', 'ymax': '845'}, 8: {'name': 'H', 'xmin': '755', 'ymin': '700', 'xmax': '1011', 'ymax': '956'}, 9: {'name': 'H', 'xmin': '81', 'ymin': '701', 'xmax': '337', 'ymax': '957'}}, 15: {'header': {'filename': 'bild_2018-08-08_120026835.bmp', 'path': 'C:\\\\Users\\\\User\\\\Desktop\\\\Laederach\\\\all_original_size\\\\bild_2018-08-08_120026835.bmp', 'width': '1288', 'height': '960', 'depth': '3', 'number_objects': 12}, 0: {'name': 'O', 'xmin': '491', 'ymin': '490', 'xmax': '747', 'ymax': '746'}, 1: {'name': 'O', 'xmin': '46', 'ymin': '176', 'xmax': '302', 'ymax': '433'}, 2: {'name': 'O', 'xmin': '64', 'ymin': '515', 'xmax': '320', 'ymax': '771'}, 3: {'name': 'O', 'xmin': '708', 'ymin': '311', 'xmax': '964', 'ymax': '567'}, 4: {'name': 'O', 'xmin': '717', 'ymin': '651', 'xmax': '973', 'ymax': '907'}, 5: {'name': 'O', 'xmin': '909', 'ymin': '137', 'xmax': '1165', 'ymax': '393'}, 6: {'name': 'O', 'xmin': '480', 'ymin': '150', 'xmax': '736', 'ymax': '405'}, 7: {'name': 'O', 'xmin': '277', 'ymin': '342', 'xmax': '534', 'ymax': '598'}, 8: {'name': 'O', 'xmin': '286', 'ymin': '671', 'xmax': '542', 'ymax': '927'}, 9: {'name': 'O', 'xmin': '912', 'ymin': '477', 'xmax': '1168', 'ymax': '733'}, 10: {'name': 'O', 'xmin': '259', 'ymin': '3', 'xmax': '515', 'ymax': '260'}, 11: {'name': 'O', 'xmin': '715', 'ymin': '3', 'xmax': '971', 'ymax': '260'}}, 16: {'header': {'filename': 'bild_2018-08-08_120029066.bmp', 'path': 'C:\\\\Users\\\\User\\\\Desktop\\\\Laederach\\\\all_original_size\\\\bild_2018-08-08_120029066.bmp', 'width': '1288', 'height': '960', 'depth': '3', 'number_objects': 10}, 0: {'name': 'H', 'xmin': '412', 'ymin': '649', 'xmax': '668', 'ymax': '905'}, 1: {'name': 'H', 'xmin': '388', 'ymin': '231', 'xmax': '644', 'ymax': '487'}, 2: {'name': 'H', 'xmin': '36', 'ymin': '33', 'xmax': '292', 'ymax': '289'}, 3: {'name': 'H', 'xmin': '58', 'ymin': '444', 'xmax': '314', 'ymax': '700'}, 4: {'name': 'H', 'xmin': '732', 'ymin': '420', 'xmax': '988', 'ymax': '676'}, 5: {'name': 'H', 'xmin': '721', 'ymin': '9', 'xmax': '977', 'ymax': '263'}, 6: {'name': 'H', 'xmin': '93', 'ymin': '701', 'xmax': '349', 'ymax': '957'}, 7: {'name': 'H', 'xmin': '756', 'ymin': '701', 'xmax': '1012', 'ymax': '957'}, 8: {'name': 'H', 'xmin': '1027', 'ymin': '183', 'xmax': '1283', 'ymax': '439'}, 9: {'name': 'H', 'xmin': '1028', 'ymin': '608', 'xmax': '1284', 'ymax': '862'}}, 17: {'header': {'filename': 'bild_2018-08-08_120031211.bmp', 'path': 'C:\\\\Users\\\\User\\\\Desktop\\\\Laederach\\\\all_original_size\\\\bild_2018-08-08_120031211.bmp', 'width': '1288', 'height': '960', 'depth': '3', 'number_objects': 10}, 0: {'name': 'K', 'xmin': '374', 'ymin': '555', 'xmax': '630', 'ymax': '811'}, 1: {'name': 'K', 'xmin': '345', 'ymin': '120', 'xmax': '601', 'ymax': '376'}, 2: {'name': 'K', 'xmin': '25', 'ymin': '388', 'xmax': '281', 'ymax': '644'}, 3: {'name': 'K', 'xmin': '688', 'ymin': '361', 'xmax': '944', 'ymax': '617'}, 4: {'name': 'K', 'xmin': '5', 'ymin': '4', 'xmax': '261', 'ymax': '260'}, 5: {'name': 'K', 'xmin': '702', 'ymin': '703', 'xmax': '958', 'ymax': '959'}, 6: {'name': 'K', 'xmin': '31', 'ymin': '703', 'xmax': '287', 'ymax': '959'}, 7: {'name': 'K', 'xmin': '1014', 'ymin': '523', 'xmax': '1270', 'ymax': '779'}, 8: {'name': 'K', 'xmin': '1010', 'ymin': '72', 'xmax': '1266', 'ymax': '328'}, 9: {'name': 'K', 'xmin': '658', 'ymin': '2', 'xmax': '914', 'ymax': '258'}}, 18: {'header': {'filename': 'bild_2018-08-08_120033426.bmp', 'path': 'C:\\\\Users\\\\User\\\\Desktop\\\\Laederach\\\\all_original_size\\\\bild_2018-08-08_120033426.bmp', 'width': '1288', 'height': '960', 'depth': '3', 'number_objects': 13}, 0: {'name': 'O', 'xmin': '298', 'ymin': '352', 'xmax': '554', 'ymax': '608'}, 1: {'name': 'O', 'xmin': '264', 'ymin': '9', 'xmax': '520', 'ymax': '265'}, 2: {'name': 'O', 'xmin': '56', 'ymin': '190', 'xmax': '312', 'ymax': '447'}, 3: {'name': 'O', 'xmin': '80', 'ymin': '524', 'xmax': '336', 'ymax': '780'}, 4: {'name': 'O', 'xmin': '719', 'ymin': '333', 'xmax': '975', 'ymax': '589'}, 5: {'name': 'O', 'xmin': '941', 'ymin': '485', 'xmax': '1197', 'ymax': '741'}, 6: {'name': 'O', 'xmin': '728', 'ymin': '664', 'xmax': '984', 'ymax': '920'}, 7: {'name': 'O', 'xmin': '317', 'ymin': '685', 'xmax': '574', 'ymax': '941'}, 8: {'name': 'O', 'xmin': '497', 'ymin': '168', 'xmax': '753', 'ymax': '424'}, 9: {'name': 'O', 'xmin': '522', 'ymin': '509', 'xmax': '778', 'ymax': '765'}, 10: {'name': 'O', 'xmin': '932', 'ymin': '149', 'xmax': '1188', 'ymax': '405'}, 11: {'name': 'O', 'xmin': '702', 'ymin': '3', 'xmax': '958', 'ymax': '259'}, 12: {'name': 'O', 'xmin': '1026', 'ymin': '299', 'xmax': '1282', 'ymax': '555'}}, 19: {'header': {'filename': 'bild_2018-08-08_120035251.bmp', 'path': 'C:\\\\Users\\\\User\\\\Desktop\\\\Laederach\\\\all_original_size\\\\bild_2018-08-08_120035251.bmp', 'width': '1288', 'height': '960', 'depth': '3', 'number_objects': 11}, 0: {'name': 'H', 'xmin': '347', 'ymin': '656', 'xmax': '603', 'ymax': '912'}, 1: {'name': 'H', 'xmin': '326', 'ymin': '231', 'xmax': '582', 'ymax': '487'}, 2: {'name': 'H', 'xmin': '679', 'ymin': '422', 'xmax': '935', 'ymax': '678'}, 3: {'name': 'H', 'xmin': '1015', 'ymin': '617', 'xmax': '1271', 'ymax': '873'}, 4: {'name': 'H', 'xmin': '1011', 'ymin': '203', 'xmax': '1267', 'ymax': '459'}, 5: {'name': 'H', 'xmin': '5', 'ymin': '36', 'xmax': '261', 'ymax': '292'}, 6: {'name': 'H', 'xmin': '5', 'ymin': '456', 'xmax': '261', 'ymax': '712'}, 7: {'name': 'H', 'xmin': '725', 'ymin': '701', 'xmax': '981', 'ymax': '957'}, 8: {'name': 'H', 'xmin': '28', 'ymin': '701', 'xmax': '284', 'ymax': '957'}, 9: {'name': 'H', 'xmin': '673', 'ymin': '5', 'xmax': '929', 'ymax': '261'}, 10: {'name': 'H', 'xmin': '307', 'ymin': '4', 'xmax': '563', 'ymax': '260'}}, 20: {'header': {'filename': 'bild_2018-08-08_120037482.bmp', 'path': 'C:\\\\Users\\\\User\\\\Desktop\\\\Laederach\\\\all_original_size\\\\bild_2018-08-08_120037482.bmp', 'width': '1288', 'height': '960', 'depth': '3', 'number_objects': 10}, 0: {'name': 'H', 'xmin': '340', 'ymin': '616', 'xmax': '596', 'ymax': '872'}, 1: {'name': 'H', 'xmin': '323', 'ymin': '203', 'xmax': '579', 'ymax': '459'}, 2: {'name': 'H', 'xmin': '672', 'ymin': '404', 'xmax': '928', 'ymax': '660'}, 3: {'name': 'H', 'xmin': '1008', 'ymin': '588', 'xmax': '1264', 'ymax': '844'}, 4: {'name': 'H', 'xmin': '1000', 'ymin': '167', 'xmax': '1256', 'ymax': '423'}, 5: {'name': 'H', 'xmin': '4', 'ymin': '3', 'xmax': '260', 'ymax': '259'}, 6: {'name': 'H', 'xmin': '4', 'ymin': '431', 'xmax': '260', 'ymax': '687'}, 7: {'name': 'H', 'xmin': '21', 'ymin': '700', 'xmax': '277', 'ymax': '956'}, 8: {'name': 'H', 'xmin': '696', 'ymin': '701', 'xmax': '952', 'ymax': '957'}, 9: {'name': 'H', 'xmin': '635', 'ymin': '4', 'xmax': '892', 'ymax': '260'}}, 21: {'header': {'filename': 'bild_2018-08-08_120039626.bmp', 'path': 'C:\\\\Users\\\\User\\\\Desktop\\\\Laederach\\\\all_original_size\\\\bild_2018-08-08_120039626.bmp', 'width': '1288', 'height': '960', 'depth': '3', 'number_objects': 10}, 0: {'name': 'H', 'xmin': '356', 'ymin': '651', 'xmax': '612', 'ymax': '907'}, 1: {'name': 'H', 'xmin': '333', 'ymin': '217', 'xmax': '589', 'ymax': '473'}, 2: {'name': 'H', 'xmin': '679', 'ymin': '417', 'xmax': '935', 'ymax': '673'}, 3: {'name': 'H', 'xmin': '1025', 'ymin': '610', 'xmax': '1281', 'ymax': '866'}, 4: {'name': 'H', 'xmin': '1015', 'ymin': '198', 'xmax': '1271', 'ymax': '454'}, 5: {'name': 'H', 'xmin': '4', 'ymin': '23', 'xmax': '260', 'ymax': '279'}, 6: {'name': 'H', 'xmin': '7', 'ymin': '449', 'xmax': '263', 'ymax': '705'}, 7: {'name': 'H', 'xmin': '24', 'ymin': '701', 'xmax': '280', 'ymax': '957'}, 8: {'name': 'H', 'xmin': '669', 'ymin': '3', 'xmax': '925', 'ymax': '259'}, 9: {'name': 'H', 'xmin': '702', 'ymin': '700', 'xmax': '958', 'ymax': '956'}}, 22: {'header': {'filename': 'bild_2018-08-08_120041930.bmp', 'path': 'C:\\\\Users\\\\User\\\\Desktop\\\\Laederach\\\\all_original_size\\\\bild_2018-08-08_120041930.bmp', 'width': '1288', 'height': '960', 'depth': '3', 'number_objects': 10}, 0: {'name': 'H', 'xmin': '354', 'ymin': '641', 'xmax': '610', 'ymax': '897'}, 1: {'name': 'H', 'xmin': '323', 'ymin': '210', 'xmax': '579', 'ymax': '466'}, 2: {'name': 'H', 'xmin': '687', 'ymin': '400', 'xmax': '943', 'ymax': '656'}, 3: {'name': 'H', 'xmin': '1016', 'ymin': '179', 'xmax': '1272', 'ymax': '435'}, 4: {'name': 'H', 'xmin': '11', 'ymin': '435', 'xmax': '267', 'ymax': '691'}, 5: {'name': 'H', 'xmin': '4', 'ymin': '21', 'xmax': '260', 'ymax': '277'}, 6: {'name': 'H', 'xmin': '20', 'ymin': '701', 'xmax': '276', 'ymax': '957'}, 7: {'name': 'H', 'xmin': '714', 'ymin': '700', 'xmax': '970', 'ymax': '956'}, 8: {'name': 'H', 'xmin': '1026', 'ymin': '581', 'xmax': '1282', 'ymax': '837'}, 9: {'name': 'H', 'xmin': '651', 'ymin': '4', 'xmax': '908', 'ymax': '260'}}, 23: {'header': {'filename': 'bild_2018-08-08_120043818.bmp', 'path': 'C:\\\\Users\\\\User\\\\Desktop\\\\Laederach\\\\all_original_size\\\\bild_2018-08-08_120043818.bmp', 'width': '1288', 'height': '960', 'depth': '3', 'number_objects': 11}, 0: {'name': 'H', 'xmin': '443', 'ymin': '673', 'xmax': '699', 'ymax': '929'}, 1: {'name': 'H', 'xmin': '60', 'ymin': '52', 'xmax': '316', 'ymax': '308'}, 2: {'name': 'H', 'xmin': '90', 'ymin': '459', 'xmax': '347', 'ymax': '715'}, 3: {'name': 'H', 'xmin': '769', 'ymin': '434', 'xmax': '1025', 'ymax': '690'}, 4: {'name': 'H', 'xmin': '737', 'ymin': '13', 'xmax': '993', 'ymax': '267'}, 5: {'name': 'H', 'xmin': '414', 'ymin': '245', 'xmax': '670', 'ymax': '502'}, 6: {'name': 'H', 'xmin': '107', 'ymin': '701', 'xmax': '364', 'ymax': '957'}, 7: {'name': 'H', 'xmin': '807', 'ymin': '699', 'xmax': '1063', 'ymax': '955'}, 8: {'name': 'H', 'xmin': '1029', 'ymin': '202', 'xmax': '1285', 'ymax': '458'}, 9: {'name': 'H', 'xmin': '1028', 'ymin': '615', 'xmax': '1284', 'ymax': '871'}, 10: {'name': 'H', 'xmin': '376', 'ymin': '3', 'xmax': '632', 'ymax': '257'}}, 24: {'header': {'filename': 'bild_2018-08-08_120046011.bmp', 'path': 'C:\\\\Users\\\\User\\\\Desktop\\\\Laederach\\\\all_original_size\\\\bild_2018-08-08_120046011.bmp', 'width': '1288', 'height': '960', 'depth': '3', 'number_objects': 9}, 0: {'name': 'K', 'xmin': '305', 'ymin': '286', 'xmax': '561', 'ymax': '542'}, 1: {'name': 'K', 'xmin': '661', 'ymin': '529', 'xmax': '917', 'ymax': '785'}, 2: {'name': 'K', 'xmin': '984', 'ymin': '693', 'xmax': '1240', 'ymax': '949'}, 3: {'name': 'K', 'xmin': '978', 'ymin': '279', 'xmax': '1234', 'ymax': '535'}, 4: {'name': 'K', 'xmin': '640', 'ymin': '95', 'xmax': '896', 'ymax': '349'}, 5: {'name': 'K', 'xmin': '4', 'ymin': '144', 'xmax': '260', 'ymax': '400'}, 6: {'name': 'K', 'xmin': '6', 'ymin': '559', 'xmax': '262', 'ymax': '815'}, 7: {'name': 'K', 'xmin': '323', 'ymin': '697', 'xmax': '579', 'ymax': '953'}, 8: {'name': 'K', 'xmin': '312', 'ymin': '4', 'xmax': '568', 'ymax': '260'}}, 25: {'header': {'filename': 'bild_2018-08-08_120050274.bmp', 'path': 'C:\\\\Users\\\\User\\\\Desktop\\\\Laederach\\\\all_original_size\\\\bild_2018-08-08_120050274.bmp', 'width': '1288', 'height': '960', 'depth': '3', 'number_objects': 8}, 0: {'name': 'K', 'xmin': '325', 'ymin': '291', 'xmax': '581', 'ymax': '547'}, 1: {'name': 'K', 'xmin': '681', 'ymin': '506', 'xmax': '937', 'ymax': '762'}, 2: {'name': 'K', 'xmin': '1017', 'ymin': '679', 'xmax': '1273', 'ymax': '935'}, 3: {'name': 'K', 'xmin': '998', 'ymin': '249', 'xmax': '1254', 'ymax': '505'}, 4: {'name': 'K', 'xmin': '649', 'ymin': '70', 'xmax': '905', 'ymax': '324'}, 5: {'name': 'K', 'xmin': '7', 'ymin': '103', 'xmax': '263', 'ymax': '358'}, 6: {'name': 'K', 'xmin': '24', 'ymin': '545', 'xmax': '280', 'ymax': '801'}, 7: {'name': 'K', 'xmin': '361', 'ymin': '692', 'xmax': '617', 'ymax': '948'}}, 26: {'header': {'filename': 'bild_2018-08-08_120052330.bmp', 'path': 'C:\\\\Users\\\\User\\\\Desktop\\\\Laederach\\\\all_original_size\\\\bild_2018-08-08_120052330.bmp', 'width': '1288', 'height': '960', 'depth': '3', 'number_objects': 8}, 0: {'name': 'K', 'xmin': '304', 'ymin': '678', 'xmax': '560', 'ymax': '934'}, 1: {'name': 'K', 'xmin': '270', 'ymin': '249', 'xmax': '526', 'ymax': '505'}, 2: {'name': 'K', 'xmin': '640', 'ymin': '484', 'xmax': '896', 'ymax': '740'}, 3: {'name': 'K', 'xmin': '972', 'ymin': '657', 'xmax': '1228', 'ymax': '913'}, 4: {'name': 'K', 'xmin': '957', 'ymin': '225', 'xmax': '1213', 'ymax': '481'}, 5: {'name': 'K', 'xmin': '624', 'ymin': '42', 'xmax': '880', 'ymax': '296'}, 6: {'name': 'K', 'xmin': '5', 'ymin': '77', 'xmax': '261', 'ymax': '333'}, 7: {'name': 'K', 'xmin': '6', 'ymin': '515', 'xmax': '262', 'ymax': '771'}}, 27: {'header': {'filename': 'bild_2018-08-08_120054602.bmp', 'path': 'C:\\\\Users\\\\User\\\\Desktop\\\\Laederach\\\\all_original_size\\\\bild_2018-08-08_120054602.bmp', 'width': '1288', 'height': '960', 'depth': '3', 'number_objects': 8}, 0: {'name': 'K', 'xmin': '334', 'ymin': '696', 'xmax': '590', 'ymax': '952'}, 1: {'name': 'K', 'xmin': '311', 'ymin': '278', 'xmax': '567', 'ymax': '534'}, 2: {'name': 'K', 'xmin': '673', 'ymin': '496', 'xmax': '929', 'ymax': '752'}, 3: {'name': 'K', 'xmin': '995', 'ymin': '676', 'xmax': '1251', 'ymax': '932'}, 4: {'name': 'K', 'xmin': '990', 'ymin': '238', 'xmax': '1246', 'ymax': '494'}, 5: {'name': 'K', 'xmin': '654', 'ymin': '63', 'xmax': '910', 'ymax': '317'}, 6: {'name': 'K', 'xmin': '4', 'ymin': '103', 'xmax': '260', 'ymax': '359'}, 7: {'name': 'K', 'xmin': '12', 'ymin': '518', 'xmax': '268', 'ymax': '774'}}, 28: {'header': {'filename': 'bild_2018-08-08_120056619.bmp', 'path': 'C:\\\\Users\\\\User\\\\Desktop\\\\Laederach\\\\all_original_size\\\\bild_2018-08-08_120056619.bmp', 'width': '1288', 'height': '960', 'depth': '3', 'number_objects': 8}, 0: {'name': 'K', 'xmin': '350', 'ymin': '285', 'xmax': '606', 'ymax': '541'}, 1: {'name': 'K', 'xmin': '17', 'ymin': '111', 'xmax': '273', 'ymax': '367'}, 2: {'name': 'K', 'xmin': '42', 'ymin': '551', 'xmax': '298', 'ymax': '807'}, 3: {'name': 'K', 'xmin': '723', 'ymin': '526', 'xmax': '979', 'ymax': '782'}, 4: {'name': 'K', 'xmin': '680', 'ymin': '82', 'xmax': '936', 'ymax': '336'}, 5: {'name': 'K', 'xmin': '396', 'ymin': '696', 'xmax': '652', 'ymax': '952'}, 6: {'name': 'K', 'xmin': '1023', 'ymin': '677', 'xmax': '1279', 'ymax': '933'}, 7: {'name': 'K', 'xmin': '1025', 'ymin': '247', 'xmax': '1281', 'ymax': '503'}}, 29: {'header': {'filename': 'bild_2018-08-08_120058674.bmp', 'path': 'C:\\\\Users\\\\User\\\\Desktop\\\\Laederach\\\\all_original_size\\\\bild_2018-08-08_120058674.bmp', 'width': '1288', 'height': '960', 'depth': '3', 'number_objects': 9}, 0: {'name': 'K', 'xmin': '389', 'ymin': '587', 'xmax': '645', 'ymax': '843'}, 1: {'name': 'K', 'xmin': '379', 'ymin': '147', 'xmax': '635', 'ymax': '403'}, 2: {'name': 'K', 'xmin': '59', 'ymin': '423', 'xmax': '315', 'ymax': '679'}, 3: {'name': 'K', 'xmin': '731', 'ymin': '395', 'xmax': '987', 'ymax': '651'}, 4: {'name': 'K', 'xmin': '6', 'ymin': '4', 'xmax': '262', 'ymax': '260'}, 5: {'name': 'K', 'xmin': '693', 'ymin': '5', 'xmax': '949', 'ymax': '261'}, 6: {'name': 'K', 'xmin': '1026', 'ymin': '110', 'xmax': '1282', 'ymax': '366'}, 7: {'name': 'K', 'xmin': '1026', 'ymin': '543', 'xmax': '1282', 'ymax': '799'}, 8: {'name': 'K', 'xmin': '734', 'ymin': '701', 'xmax': '990', 'ymax': '957'}}, 30: {'header': {'filename': 'bild_2018-08-08_120100539.bmp', 'path': 'C:\\\\Users\\\\User\\\\Desktop\\\\Laederach\\\\all_original_size\\\\bild_2018-08-08_120100539.bmp', 'width': '1288', 'height': '960', 'depth': '3', 'number_objects': 13}, 0: {'name': 'B', 'xmin': '256', 'ymin': '409', 'xmax': '512', 'ymax': '665'}, 1: {'name': 'B', 'xmin': '251', 'ymin': '55', 'xmax': '507', 'ymax': '311'}, 2: {'name': 'B', 'xmin': '560', 'ymin': '574', 'xmax': '816', 'ymax': '830'}, 3: {'name': 'B', 'xmin': '552', 'ymin': '215', 'xmax': '808', 'ymax': '470'}, 4: {'name': 'B', 'xmin': '845', 'ymin': '20', 'xmax': '1101', 'ymax': '274'}, 5: {'name': 'B', 'xmin': '859', 'ymin': '387', 'xmax': '1115', 'ymax': '641'}, 6: {'name': 'B', 'xmin': '6', 'ymin': '239', 'xmax': '262', 'ymax': '496'}, 7: {'name': 'B', 'xmin': '3', 'ymin': '3', 'xmax': '259', 'ymax': '259'}, 8: {'name': 'B', 'xmin': '7', 'ymin': '617', 'xmax': '263', 'ymax': '873'}, 9: {'name': 'B', 'xmin': '266', 'ymin': '694', 'xmax': '522', 'ymax': '950'}, 10: {'name': 'B', 'xmin': '875', 'ymin': '700', 'xmax': '1131', 'ymax': '956'}, 11: {'name': 'B', 'xmin': '521', 'ymin': '5', 'xmax': '777', 'ymax': '259'}, 12: {'name': 'B', 'xmin': '1028', 'ymin': '184', 'xmax': '1284', 'ymax': '438'}}, 31: {'header': {'filename': 'bild_2018-08-08_120103875.bmp', 'path': 'C:\\\\Users\\\\User\\\\Desktop\\\\Laederach\\\\all_original_size\\\\bild_2018-08-08_120103875.bmp', 'width': '1288', 'height': '960', 'depth': '3', 'number_objects': 10}, 0: {'name': 'H', 'xmin': '403', 'ymin': '653', 'xmax': '659', 'ymax': '909'}, 1: {'name': 'H', 'xmin': '373', 'ymin': '215', 'xmax': '629', 'ymax': '471'}, 2: {'name': 'H', 'xmin': '28', 'ymin': '32', 'xmax': '284', 'ymax': '288'}, 3: {'name': 'H', 'xmin': '61', 'ymin': '464', 'xmax': '317', 'ymax': '720'}, 4: {'name': 'H', 'xmin': '734', 'ymin': '409', 'xmax': '990', 'ymax': '665'}, 5: {'name': 'H', 'xmin': '67', 'ymin': '701', 'xmax': '323', 'ymax': '957'}, 6: {'name': 'H', 'xmin': '745', 'ymin': '701', 'xmax': '1001', 'ymax': '957'}, 7: {'name': 'H', 'xmin': '1029', 'ymin': '600', 'xmax': '1285', 'ymax': '856'}, 8: {'name': 'H', 'xmin': '1028', 'ymin': '176', 'xmax': '1284', 'ymax': '432'}, 9: {'name': 'H', 'xmin': '698', 'ymin': '4', 'xmax': '954', 'ymax': '260'}}, 32: {'header': {'filename': 'bild_2018-08-08_120113107.bmp', 'path': 'C:\\\\Users\\\\User\\\\Desktop\\\\Laederach\\\\all_original_size\\\\bild_2018-08-08_120113107.bmp', 'width': '1288', 'height': '960', 'depth': '3', 'number_objects': 13}, 0: {'name': 'O', 'xmin': '300', 'ymin': '651', 'xmax': '556', 'ymax': '907'}, 1: {'name': 'O', 'xmin': '288', 'ymin': '314', 'xmax': '544', 'ymax': '570'}, 2: {'name': 'O', 'xmin': '45', 'ymin': '167', 'xmax': '301', 'ymax': '424'}, 3: {'name': 'O', 'xmin': '67', 'ymin': '503', 'xmax': '323', 'ymax': '759'}, 4: {'name': 'O', 'xmin': '713', 'ymin': '293', 'xmax': '970', 'ymax': '549'}, 5: {'name': 'O', 'xmin': '938', 'ymin': '454', 'xmax': '1194', 'ymax': '710'}, 6: {'name': 'O', 'xmin': '729', 'ymin': '627', 'xmax': '985', 'ymax': '883'}, 7: {'name': 'O', 'xmin': '911', 'ymin': '107', 'xmax': '1167', 'ymax': '363'}, 8: {'name': 'O', 'xmin': '490', 'ymin': '132', 'xmax': '746', 'ymax': '387'}, 9: {'name': 'O', 'xmin': '496', 'ymin': '476', 'xmax': '752', 'ymax': '730'}, 10: {'name': 'O', 'xmin': '276', 'ymin': '4', 'xmax': '532', 'ymax': '261'}, 11: {'name': 'O', 'xmin': '701', 'ymin': '4', 'xmax': '958', 'ymax': '260'}, 12: {'name': 'O', 'xmin': '1028', 'ymin': '242', 'xmax': '1284', 'ymax': '498'}}, 33: {'header': {'filename': 'bild_2018-08-08_120139706.bmp', 'path': 'C:\\\\Users\\\\User\\\\Desktop\\\\Laederach\\\\all_original_size\\\\bild_2018-08-08_120139706.bmp', 'width': '1288', 'height': '960', 'depth': '3', 'number_objects': 14}, 0: {'name': 'O', 'xmin': '450', 'ymin': '480', 'xmax': '706', 'ymax': '736'}, 1: {'name': 'O', 'xmin': '226', 'ymin': '330', 'xmax': '482', 'ymax': '586'}, 2: {'name': 'O', 'xmin': '25', 'ymin': '509', 'xmax': '281', 'ymax': '765'}, 3: {'name': 'O', 'xmin': '691', 'ymin': '634', 'xmax': '947', 'ymax': '890'}, 4: {'name': 'O', 'xmin': '433', 'ymin': '150', 'xmax': '690', 'ymax': '406'}, 5: {'name': 'O', 'xmin': '251', 'ymin': '657', 'xmax': '508', 'ymax': '913'}, 6: {'name': 'O', 'xmin': '679', 'ymin': '304', 'xmax': '935', 'ymax': '560'}, 7: {'name': 'O', 'xmin': '865', 'ymin': '121', 'xmax': '1121', 'ymax': '377'}, 8: {'name': 'O', 'xmin': '883', 'ymin': '456', 'xmax': '1139', 'ymax': '712'}, 9: {'name': 'O', 'xmin': '29', 'ymin': '162', 'xmax': '285', 'ymax': '418'}, 10: {'name': 'O', 'xmin': '231', 'ymin': '6', 'xmax': '487', 'ymax': '262'}, 11: {'name': 'O', 'xmin': '1026', 'ymin': '269', 'xmax': '1283', 'ymax': '525'}, 12: {'name': 'O', 'xmin': '1027', 'ymin': '611', 'xmax': '1283', 'ymax': '867'}, 13: {'name': 'O', 'xmin': '657', 'ymin': '3', 'xmax': '913', 'ymax': '259'}}, 34: {'header': {'filename': 'bild_2018-08-08_120142138.bmp', 'path': 'C:\\\\Users\\\\User\\\\Desktop\\\\Laederach\\\\all_original_size\\\\bild_2018-08-08_120142138.bmp', 'width': '1288', 'height': '960', 'depth': '3', 'number_objects': 10}, 0: {'name': 'K', 'xmin': '359', 'ymin': '559', 'xmax': '615', 'ymax': '815'}, 1: {'name': 'K', 'xmin': '333', 'ymin': '111', 'xmax': '589', 'ymax': '367'}, 2: {'name': 'K', 'xmin': '17', 'ymin': '391', 'xmax': '273', 'ymax': '647'}, 3: {'name': 'K', 'xmin': '687', 'ymin': '336', 'xmax': '943', 'ymax': '592'}, 4: {'name': 'K', 'xmin': '1002', 'ymin': '75', 'xmax': '1258', 'ymax': '331'}, 5: {'name': 'K', 'xmin': '30', 'ymin': '701', 'xmax': '286', 'ymax': '957'}, 6: {'name': 'K', 'xmin': '4', 'ymin': '3', 'xmax': '260', 'ymax': '259'}, 7: {'name': 'K', 'xmin': '657', 'ymin': '4', 'xmax': '913', 'ymax': '260'}, 8: {'name': 'K', 'xmin': '1024', 'ymin': '477', 'xmax': '1280', 'ymax': '733'}, 9: {'name': 'K', 'xmin': '690', 'ymin': '701', 'xmax': '946', 'ymax': '957'}}, 35: {'header': {'filename': 'bild_2018-08-08_120146227.bmp', 'path': 'C:\\\\Users\\\\User\\\\Desktop\\\\Laederach\\\\all_original_size\\\\bild_2018-08-08_120146227.bmp', 'width': '1288', 'height': '960', 'depth': '3', 'number_objects': 10}, 0: {'name': 'H', 'xmin': '339', 'ymin': '676', 'xmax': '595', 'ymax': '932'}, 1: {'name': 'H', 'xmin': '323', 'ymin': '259', 'xmax': '579', 'ymax': '515'}, 2: {'name': 'H', 'xmin': '674', 'ymin': '441', 'xmax': '930', 'ymax': '697'}, 3: {'name': 'H', 'xmin': '1018', 'ymin': '638', 'xmax': '1274', 'ymax': '894'}, 4: {'name': 'H', 'xmin': '995', 'ymin': '227', 'xmax': '1251', 'ymax': '483'}, 5: {'name': 'H', 'xmin': '651', 'ymin': '36', 'xmax': '907', 'ymax': '290'}, 6: {'name': 'H', 'xmin': '4', 'ymin': '54', 'xmax': '260', 'ymax': '310'}, 7: {'name': 'H', 'xmin': '5', 'ymin': '490', 'xmax': '261', 'ymax': '746'}, 8: {'name': 'H', 'xmin': '285', 'ymin': '3', 'xmax': '541', 'ymax': '257'}, 9: {'name': 'H', 'xmin': '690', 'ymin': '703', 'xmax': '946', 'ymax': '957'}}, 36: {'header': {'filename': 'bild_2018-08-08_120148315.bmp', 'path': 'C:\\\\Users\\\\User\\\\Desktop\\\\Laederach\\\\all_original_size\\\\bild_2018-08-08_120148315.bmp', 'width': '1288', 'height': '960', 'depth': '3', 'number_objects': 14}, 0: {'name': 'B', 'xmin': '225', 'ymin': '420', 'xmax': '481', 'ymax': '676'}, 1: {'name': 'B', 'xmin': '214', 'ymin': '62', 'xmax': '471', 'ymax': '318'}, 2: {'name': 'B', 'xmin': '531', 'ymin': '584', 'xmax': '787', 'ymax': '840'}, 3: {'name': 'B', 'xmin': '828', 'ymin': '384', 'xmax': '1085', 'ymax': '640'}, 4: {'name': 'B', 'xmin': '799', 'ymin': '20', 'xmax': '1055', 'ymax': '274'}, 5: {'name': 'B', 'xmin': '512', 'ymin': '224', 'xmax': '768', 'ymax': '480'}, 6: {'name': 'B', 'xmin': '4', 'ymin': '249', 'xmax': '261', 'ymax': '506'}, 7: {'name': 'B', 'xmin': '3', 'ymin': '612', 'xmax': '260', 'ymax': '868'}, 8: {'name': 'B', 'xmin': '243', 'ymin': '700', 'xmax': '499', 'ymax': '956'}, 9: {'name': 'B', 'xmin': '844', 'ymin': '699', 'xmax': '1100', 'ymax': '955'}, 10: {'name': 'B', 'xmin': '1027', 'ymin': '182', 'xmax': '1284', 'ymax': '438'}, 11: {'name': 'B', 'xmin': '1026', 'ymin': '550', 'xmax': '1283', 'ymax': '806'}, 12: {'name': 'B', 'xmin': '487', 'ymin': '3', 'xmax': '743', 'ymax': '257'}, 13: {'name': 'B', 'xmin': '4', 'ymin': '3', 'xmax': '261', 'ymax': '259'}}, 37: {'header': {'filename': 'bild_2018-08-08_120150618.bmp', 'path': 'C:\\\\Users\\\\User\\\\Desktop\\\\Laederach\\\\all_original_size\\\\bild_2018-08-08_120150618.bmp', 'width': '1288', 'height': '960', 'depth': '3', 'number_objects': 10}, 0: {'name': 'H', 'xmin': '383', 'ymin': '609', 'xmax': '639', 'ymax': '865'}, 1: {'name': 'H', 'xmin': '357', 'ymin': '175', 'xmax': '613', 'ymax': '431'}, 2: {'name': 'H', 'xmin': '37', 'ymin': '410', 'xmax': '293', 'ymax': '666'}, 3: {'name': 'H', 'xmin': '712', 'ymin': '373', 'xmax': '968', 'ymax': '629'}, 4: {'name': 'H', 'xmin': '16', 'ymin': '5', 'xmax': '272', 'ymax': '261'}, 5: {'name': 'H', 'xmin': '695', 'ymin': '4', 'xmax': '951', 'ymax': '260'}, 6: {'name': 'H', 'xmin': '1028', 'ymin': '134', 'xmax': '1284', 'ymax': '390'}, 7: {'name': 'H', 'xmin': '1028', 'ymin': '554', 'xmax': '1284', 'ymax': '810'}, 8: {'name': 'H', 'xmin': '727', 'ymin': '701', 'xmax': '983', 'ymax': '957'}, 9: {'name': 'H', 'xmin': '55', 'ymin': '700', 'xmax': '311', 'ymax': '956'}}}\n"
     ]
    }
   ],
   "source": [
    "print(image_dict)"
   ]
  },
  {
   "cell_type": "code",
   "execution_count": 7,
   "metadata": {},
   "outputs": [
    {
     "name": "stdout",
     "output_type": "stream",
     "text": [
      "anzahl Bilder:  38\n",
      "anzahl Bilder:  38\n",
      "filename:  bild_2018-08-08_115956970.bmp\n",
      "name:  H\n"
     ]
    }
   ],
   "source": [
    "print('anzahl Bilder: ', number_images)\n",
    "print('anzahl Bilder: ', len(image_dict))\n",
    "print('filename: ', image_dict[2]['header']['filename'])\n",
    "print('name: ', image_dict[2][3]['name'])"
   ]
  },
  {
   "cell_type": "code",
   "execution_count": 8,
   "metadata": {},
   "outputs": [
    {
     "name": "stdout",
     "output_type": "stream",
     "text": [
      "C:/Users/User/Desktop/Laederach/20180810_Histogram_optimized/\n",
      "['bild_2018-08-08_115946010_o.bmp', 'bild_2018-08-08_115954331_o.bmp', 'bild_2018-08-08_115956970_o.bmp', 'bild_2018-08-08_115959147_o.bmp', 'bild_2018-08-08_120001402_o.bmp', 'bild_2018-08-08_120003579_o.bmp', 'bild_2018-08-08_120006027_o.bmp', 'bild_2018-08-08_120008331_o.bmp', 'bild_2018-08-08_120010571_o.bmp', 'bild_2018-08-08_120012955_o.bmp', 'bild_2018-08-08_120015411_o.bmp', 'bild_2018-08-08_120017570_o.bmp', 'bild_2018-08-08_120019978_o.bmp', 'bild_2018-08-08_120021906_o.bmp', 'bild_2018-08-08_120024258_o.bmp', 'bild_2018-08-08_120026835_o.bmp', 'bild_2018-08-08_120029066_o.bmp', 'bild_2018-08-08_120031211_o.bmp', 'bild_2018-08-08_120033426_o.bmp', 'bild_2018-08-08_120035251_o.bmp', 'bild_2018-08-08_120037482_o.bmp', 'bild_2018-08-08_120039626_o.bmp', 'bild_2018-08-08_120041930_o.bmp', 'bild_2018-08-08_120043818_o.bmp', 'bild_2018-08-08_120046011_o.bmp', 'bild_2018-08-08_120050274_o.bmp', 'bild_2018-08-08_120052330_o.bmp', 'bild_2018-08-08_120054602_o.bmp', 'bild_2018-08-08_120056619_o.bmp', 'bild_2018-08-08_120058674_o.bmp', 'bild_2018-08-08_120100539_o.bmp', 'bild_2018-08-08_120103875_o.bmp', 'bild_2018-08-08_120113107_o.bmp', 'bild_2018-08-08_120139706_o.bmp', 'bild_2018-08-08_120142138_o.bmp', 'bild_2018-08-08_120146227_o.bmp', 'bild_2018-08-08_120148315_o.bmp', 'bild_2018-08-08_120150618_o.bmp']\n",
      "38\n"
     ]
    }
   ],
   "source": [
    "path_folder = 'C:/Users/User/Desktop/Laederach/20180810_Histogram_optimized/' # Bilder path\n",
    "folder_B = 'C:/Users/User/Desktop/Laederach/B_o/'\n",
    "folder_H = 'C:/Users/User/Desktop/Laederach/H_o/'\n",
    "folder_K = 'C:/Users/User/Desktop/Laederach/K_o/'\n",
    "folder_O = 'C:/Users/User/Desktop/Laederach/O_o/'\n",
    "path_folder, dirs, files = next(os.walk(path_folder))\n",
    "\n",
    "number_images = len(files)\n",
    "print(path_folder)\n",
    "print(files)\n",
    "print(number_images)"
   ]
  },
  {
   "cell_type": "code",
   "execution_count": 9,
   "metadata": {},
   "outputs": [],
   "source": [
    "rdm_min = 0\n",
    "rdm_max = 999999\n",
    "\n",
    "for image in range(number_images):\n",
    "    with Image.open(path_folder + files[image]) as file:\n",
    "        anzahl_objects = image_dict[image]['header']['number_objects']\n",
    "        for i in range(anzahl_objects):\n",
    "            img = np.array(file)\n",
    "            xmin = int(image_dict[image][i]['xmin'])\n",
    "            ymin = int(image_dict[image][i]['ymin'])\n",
    "            xmax = int(image_dict[image][i]['xmax'])\n",
    "            ymax = int(image_dict[image][i]['ymax'])\n",
    "            name = image_dict[image][i]['name']\n",
    "            img_mini = img[ymin:ymax, xmin:xmax]\n",
    "            img_size_uint8 = Image.fromarray(np.uint8(img_mini))\n",
    "            rdm = np.random.randint(rdm_min, rdm_max)\n",
    "            \n",
    "            if name == 'B':\n",
    "                img_size_uint8.save(folder_B + time.strftime('%Y%m%d') + '_' + f'{rdm:06}' + '_' + name + '.bmp')\n",
    "            elif name == 'H':\n",
    "                img_size_uint8.save(folder_H + time.strftime('%Y%m%d') + '_' + f'{rdm:06}' + '_' + name + '.bmp')\n",
    "            elif name == 'K':\n",
    "                img_size_uint8.save(folder_K + time.strftime('%Y%m%d') + '_' + f'{rdm:06}' + '_' + name + '.bmp')\n",
    "            elif name == 'O':\n",
    "                img_size_uint8.save(folder_O + time.strftime('%Y%m%d') + '_' + f'{rdm:06}' + '_' + name + '.bmp')\n",
    "            "
   ]
  },
  {
   "cell_type": "code",
   "execution_count": 10,
   "metadata": {},
   "outputs": [],
   "source": [
    "with Image.open(path_folder + files[0]) as file:\n",
    "    img = np.array(file)"
   ]
  },
  {
   "cell_type": "code",
   "execution_count": 11,
   "metadata": {},
   "outputs": [],
   "source": [
    "np.shape(img)\n",
    "x,y,z = np.shape(img)"
   ]
  },
  {
   "cell_type": "code",
   "execution_count": 12,
   "metadata": {},
   "outputs": [
    {
     "name": "stdout",
     "output_type": "stream",
     "text": [
      "960 1288 3\n"
     ]
    },
    {
     "data": {
      "text/plain": [
       "28"
      ]
     },
     "execution_count": 12,
     "metadata": {},
     "output_type": "execute_result"
    }
   ],
   "source": [
    "print(x,y,z)\n",
    "np.random.randint(0, 50)"
   ]
  },
  {
   "cell_type": "code",
   "execution_count": 13,
   "metadata": {},
   "outputs": [
    {
     "name": "stdout",
     "output_type": "stream",
     "text": [
      "{0: {'header': {'filename': 'bild_2018-08-08_115946010.bmp', 'path': 'C:\\\\Users\\\\User\\\\Desktop\\\\Laederach\\\\all_original_size\\\\bild_2018-08-08_115946010.bmp', 'width': '1288', 'height': '960', 'depth': '3', 'number_objects': 10}, 0: {'name': 'H', 'xmin': '369', 'ymin': '649', 'xmax': '625', 'ymax': '905'}, 1: {'name': 'H', 'xmin': '345', 'ymin': '212', 'xmax': '601', 'ymax': '468'}, 2: {'name': 'H', 'xmin': '15', 'ymin': '444', 'xmax': '271', 'ymax': '700'}, 3: {'name': 'H', 'xmin': '697', 'ymin': '400', 'xmax': '953', 'ymax': '656'}, 4: {'name': 'H', 'xmin': '7', 'ymin': '22', 'xmax': '263', 'ymax': '278'}, 5: {'name': 'H', 'xmin': '668', 'ymin': '3', 'xmax': '924', 'ymax': '259'}, 6: {'name': 'H', 'xmin': '1028', 'ymin': '169', 'xmax': '1284', 'ymax': '425'}, 7: {'name': 'H', 'xmin': '1026', 'ymin': '595', 'xmax': '1282', 'ymax': '851'}, 8: {'name': 'H', 'xmin': '718', 'ymin': '700', 'xmax': '975', 'ymax': '956'}, 9: {'name': 'H', 'xmin': '50', 'ymin': '700', 'xmax': '306', 'ymax': '956'}}, 1: {'header': {'filename': 'bild_2018-08-08_115954331.bmp', 'path': 'C:\\\\Users\\\\User\\\\Desktop\\\\Laederach\\\\all_original_size\\\\bild_2018-08-08_115954331.bmp', 'width': '1288', 'height': '960', 'depth': '3', 'number_objects': 11}, 0: {'name': 'H', 'xmin': '374', 'ymin': '651', 'xmax': '630', 'ymax': '907'}, 1: {'name': 'H', 'xmin': '358', 'ymin': '233', 'xmax': '614', 'ymax': '489'}, 2: {'name': 'H', 'xmin': '18', 'ymin': '37', 'xmax': '274', 'ymax': '293'}, 3: {'name': 'H', 'xmin': '27', 'ymin': '451', 'xmax': '283', 'ymax': '707'}, 4: {'name': 'H', 'xmin': '707', 'ymin': '429', 'xmax': '963', 'ymax': '685'}, 5: {'name': 'H', 'xmin': '45', 'ymin': '700', 'xmax': '301', 'ymax': '956'}, 6: {'name': 'H', 'xmin': '718', 'ymin': '701', 'xmax': '974', 'ymax': '957'}, 7: {'name': 'H', 'xmin': '693', 'ymin': '11', 'xmax': '949', 'ymax': '267'}, 8: {'name': 'H', 'xmin': '1026', 'ymin': '207', 'xmax': '1282', 'ymax': '463'}, 9: {'name': 'H', 'xmin': '1028', 'ymin': '626', 'xmax': '1284', 'ymax': '882'}, 10: {'name': 'H', 'xmin': '332', 'ymin': '4', 'xmax': '588', 'ymax': '260'}}, 2: {'header': {'filename': 'bild_2018-08-08_115956970.bmp', 'path': 'C:\\\\Users\\\\User\\\\Desktop\\\\Laederach\\\\all_original_size\\\\bild_2018-08-08_115956970.bmp', 'width': '1288', 'height': '960', 'depth': '3', 'number_objects': 10}, 0: {'name': 'H', 'xmin': '377', 'ymin': '291', 'xmax': '633', 'ymax': '547'}, 1: {'name': 'H', 'xmin': '26', 'ymin': '103', 'xmax': '282', 'ymax': '359'}, 2: {'name': 'H', 'xmin': '52', 'ymin': '524', 'xmax': '308', 'ymax': '780'}, 3: {'name': 'H', 'xmin': '748', 'ymin': '479', 'xmax': '1004', 'ymax': '735'}, 4: {'name': 'H', 'xmin': '719', 'ymin': '62', 'xmax': '975', 'ymax': '316'}, 5: {'name': 'H', 'xmin': '403', 'ymin': '700', 'xmax': '659', 'ymax': '956'}, 6: {'name': 'H', 'xmin': '358', 'ymin': '3', 'xmax': '614', 'ymax': '259'}, 7: {'name': 'H', 'xmin': '1028', 'ymin': '251', 'xmax': '1284', 'ymax': '506'}, 8: {'name': 'H', 'xmin': '1028', 'ymin': '676', 'xmax': '1284', 'ymax': '930'}, 9: {'name': 'H', 'xmin': '1023', 'ymin': '3', 'xmax': '1279', 'ymax': '257'}}, 3: {'header': {'filename': 'bild_2018-08-08_115959147.bmp', 'path': 'C:\\\\Users\\\\User\\\\Desktop\\\\Laederach\\\\all_original_size\\\\bild_2018-08-08_115959147.bmp', 'width': '1288', 'height': '960', 'depth': '3', 'number_objects': 10}, 0: {'name': 'H', 'xmin': '415', 'ymin': '582', 'xmax': '671', 'ymax': '838'}, 1: {'name': 'H', 'xmin': '395', 'ymin': '152', 'xmax': '651', 'ymax': '408'}, 2: {'name': 'H', 'xmin': '68', 'ymin': '390', 'xmax': '324', 'ymax': '646'}, 3: {'name': 'H', 'xmin': '759', 'ymin': '350', 'xmax': '1016', 'ymax': '606'}, 4: {'name': 'H', 'xmin': '772', 'ymin': '701', 'xmax': '1028', 'ymax': '957'}, 5: {'name': 'H', 'xmin': '1026', 'ymin': '543', 'xmax': '1283', 'ymax': '799'}, 6: {'name': 'H', 'xmin': '1027', 'ymin': '115', 'xmax': '1284', 'ymax': '371'}, 7: {'name': 'H', 'xmin': '739', 'ymin': '4', 'xmax': '996', 'ymax': '260'}, 8: {'name': 'H', 'xmin': '46', 'ymin': '3', 'xmax': '302', 'ymax': '259'}, 9: {'name': 'H', 'xmin': '78', 'ymin': '700', 'xmax': '334', 'ymax': '956'}}, 4: {'header': {'filename': 'bild_2018-08-08_120001402.bmp', 'path': 'C:\\\\Users\\\\User\\\\Desktop\\\\Laederach\\\\all_original_size\\\\bild_2018-08-08_120001402.bmp', 'width': '1288', 'height': '960', 'depth': '3', 'number_objects': 12}, 0: {'name': 'O', 'xmin': '327', 'ymin': '651', 'xmax': '583', 'ymax': '907'}, 1: {'name': 'O', 'xmin': '304', 'ymin': '316', 'xmax': '560', 'ymax': '572'}, 2: {'name': 'O', 'xmin': '74', 'ymin': '158', 'xmax': '330', 'ymax': '415'}, 3: {'name': 'O', 'xmin': '91', 'ymin': '494', 'xmax': '348', 'ymax': '750'}, 4: {'name': 'O', 'xmin': '739', 'ymin': '291', 'xmax': '995', 'ymax': '547'}, 5: {'name': 'O', 'xmin': '760', 'ymin': '630', 'xmax': '1017', 'ymax': '886'}, 6: {'name': 'O', 'xmin': '512', 'ymin': '137', 'xmax': '768', 'ymax': '394'}, 7: {'name': 'O', 'xmin': '525', 'ymin': '470', 'xmax': '781', 'ymax': '726'}, 8: {'name': 'O', 'xmin': '954', 'ymin': '450', 'xmax': '1210', 'ymax': '706'}, 9: {'name': 'O', 'xmin': '936', 'ymin': '116', 'xmax': '1192', 'ymax': '370'}, 10: {'name': 'O', 'xmin': '281', 'ymin': '3', 'xmax': '537', 'ymax': '260'}, 11: {'name': 'O', 'xmin': '725', 'ymin': '4', 'xmax': '981', 'ymax': '261'}}, 5: {'header': {'filename': 'bild_2018-08-08_120003579.bmp', 'path': 'C:\\\\Users\\\\User\\\\Desktop\\\\Laederach\\\\all_original_size\\\\bild_2018-08-08_120003579.bmp', 'width': '1288', 'height': '960', 'depth': '3', 'number_objects': 10}, 0: {'name': 'H', 'xmin': '370', 'ymin': '650', 'xmax': '626', 'ymax': '906'}, 1: {'name': 'H', 'xmin': '349', 'ymin': '222', 'xmax': '605', 'ymax': '478'}, 2: {'name': 'H', 'xmin': '25', 'ymin': '442', 'xmax': '281', 'ymax': '698'}, 3: {'name': 'H', 'xmin': '704', 'ymin': '400', 'xmax': '960', 'ymax': '656'}, 4: {'name': 'H', 'xmin': '15', 'ymin': '13', 'xmax': '271', 'ymax': '269'}, 5: {'name': 'H', 'xmin': '58', 'ymin': '701', 'xmax': '314', 'ymax': '957'}, 6: {'name': 'H', 'xmin': '732', 'ymin': '700', 'xmax': '988', 'ymax': '956'}, 7: {'name': 'H', 'xmin': '693', 'ymin': '3', 'xmax': '949', 'ymax': '259'}, 8: {'name': 'H', 'xmin': '1029', 'ymin': '165', 'xmax': '1285', 'ymax': '421'}, 9: {'name': 'H', 'xmin': '1028', 'ymin': '591', 'xmax': '1284', 'ymax': '847'}}, 6: {'header': {'filename': 'bild_2018-08-08_120006027.bmp', 'path': 'C:\\\\Users\\\\User\\\\Desktop\\\\Laederach\\\\all_original_size\\\\bild_2018-08-08_120006027.bmp', 'width': '1288', 'height': '960', 'depth': '3', 'number_objects': 8}, 0: {'name': 'K', 'xmin': '372', 'ymin': '300', 'xmax': '628', 'ymax': '556'}, 1: {'name': 'K', 'xmin': '25', 'ymin': '128', 'xmax': '281', 'ymax': '385'}, 2: {'name': 'K', 'xmin': '28', 'ymin': '564', 'xmax': '284', 'ymax': '820'}, 3: {'name': 'K', 'xmin': '712', 'ymin': '528', 'xmax': '968', 'ymax': '784'}, 4: {'name': 'K', 'xmin': '701', 'ymin': '85', 'xmax': '957', 'ymax': '339'}, 5: {'name': 'K', 'xmin': '1025', 'ymin': '317', 'xmax': '1281', 'ymax': '571'}, 6: {'name': 'K', 'xmin': '1023', 'ymin': '699', 'xmax': '1279', 'ymax': '953'}, 7: {'name': 'K', 'xmin': '383', 'ymin': '694', 'xmax': '639', 'ymax': '950'}}, 7: {'header': {'filename': 'bild_2018-08-08_120008331.bmp', 'path': 'C:\\\\Users\\\\User\\\\Desktop\\\\Laederach\\\\all_original_size\\\\bild_2018-08-08_120008331.bmp', 'width': '1288', 'height': '960', 'depth': '3', 'number_objects': 15}, 0: {'name': 'B', 'xmin': '224', 'ymin': '608', 'xmax': '480', 'ymax': '864'}, 1: {'name': 'B', 'xmin': '200', 'ymin': '247', 'xmax': '456', 'ymax': '503'}, 2: {'name': 'B', 'xmin': '517', 'ymin': '407', 'xmax': '773', 'ymax': '663'}, 3: {'name': 'B', 'xmin': '829', 'ymin': '577', 'xmax': '1086', 'ymax': '833'}, 4: {'name': 'B', 'xmin': '814', 'ymin': '206', 'xmax': '1071', 'ymax': '462'}, 5: {'name': 'B', 'xmin': '484', 'ymin': '42', 'xmax': '740', 'ymax': '296'}, 6: {'name': 'B', 'xmin': '187', 'ymin': '5', 'xmax': '443', 'ymax': '259'}, 7: {'name': 'B', 'xmin': '10', 'ymin': '77', 'xmax': '266', 'ymax': '333'}, 8: {'name': 'B', 'xmin': '8', 'ymin': '441', 'xmax': '264', 'ymax': '697'}, 9: {'name': 'B', 'xmin': '6', 'ymin': '698', 'xmax': '262', 'ymax': '954'}, 10: {'name': 'B', 'xmin': '549', 'ymin': '699', 'xmax': '805', 'ymax': '955'}, 11: {'name': 'B', 'xmin': '1027', 'ymin': '699', 'xmax': '1284', 'ymax': '955'}, 12: {'name': 'B', 'xmin': '1025', 'ymin': '384', 'xmax': '1282', 'ymax': '640'}, 13: {'name': 'B', 'xmin': '1025', 'ymin': '18', 'xmax': '1282', 'ymax': '274'}, 14: {'name': 'B', 'xmin': '793', 'ymin': '6', 'xmax': '1049', 'ymax': '260'}}, 8: {'header': {'filename': 'bild_2018-08-08_120010571.bmp', 'path': 'C:\\\\Users\\\\User\\\\Desktop\\\\Laederach\\\\all_original_size\\\\bild_2018-08-08_120010571.bmp', 'width': '1288', 'height': '960', 'depth': '3', 'number_objects': 10}, 0: {'name': 'K', 'xmin': '376', 'ymin': '547', 'xmax': '632', 'ymax': '803'}, 1: {'name': 'K', 'xmin': '357', 'ymin': '123', 'xmax': '613', 'ymax': '379'}, 2: {'name': 'K', 'xmin': '27', 'ymin': '389', 'xmax': '283', 'ymax': '645'}, 3: {'name': 'K', 'xmin': '698', 'ymin': '339', 'xmax': '954', 'ymax': '595'}, 4: {'name': 'K', 'xmin': '8', 'ymin': '3', 'xmax': '264', 'ymax': '259'}, 5: {'name': 'K', 'xmin': '674', 'ymin': '5', 'xmax': '930', 'ymax': '261'}, 6: {'name': 'K', 'xmin': '1021', 'ymin': '68', 'xmax': '1277', 'ymax': '324'}, 7: {'name': 'K', 'xmin': '1022', 'ymin': '505', 'xmax': '1278', 'ymax': '761'}, 8: {'name': 'K', 'xmin': '716', 'ymin': '696', 'xmax': '972', 'ymax': '952'}, 9: {'name': 'K', 'xmin': '52', 'ymin': '701', 'xmax': '308', 'ymax': '957'}}, 9: {'header': {'filename': 'bild_2018-08-08_120012955.bmp', 'path': 'C:\\\\Users\\\\User\\\\Desktop\\\\Laederach\\\\all_original_size\\\\bild_2018-08-08_120012955.bmp', 'width': '1288', 'height': '960', 'depth': '3', 'number_objects': 15}, 0: {'name': 'O', 'xmin': '164', 'ymin': '529', 'xmax': '420', 'ymax': '785'}, 1: {'name': 'O', 'xmin': '133', 'ymin': '202', 'xmax': '389', 'ymax': '458'}, 2: {'name': 'O', 'xmin': '600', 'ymin': '489', 'xmax': '856', 'ymax': '745'}, 3: {'name': 'O', 'xmin': '1008', 'ymin': '486', 'xmax': '1264', 'ymax': '742'}, 4: {'name': 'O', 'xmin': '398', 'ymin': '681', 'xmax': '654', 'ymax': '937'}, 5: {'name': 'O', 'xmin': '1007', 'ymin': '148', 'xmax': '1263', 'ymax': '404'}, 6: {'name': 'O', 'xmin': '570', 'ymin': '168', 'xmax': '826', 'ymax': '423'}, 7: {'name': 'O', 'xmin': '360', 'ymin': '19', 'xmax': '616', 'ymax': '275'}, 8: {'name': 'O', 'xmin': '372', 'ymin': '358', 'xmax': '628', 'ymax': '614'}, 9: {'name': 'O', 'xmin': '800', 'ymin': '328', 'xmax': '1057', 'ymax': '584'}, 10: {'name': 'O', 'xmin': '803', 'ymin': '656', 'xmax': '1060', 'ymax': '912'}, 11: {'name': 'O', 'xmin': '5', 'ymin': '373', 'xmax': '261', 'ymax': '629'}, 12: {'name': 'O', 'xmin': '5', 'ymin': '700', 'xmax': '261', 'ymax': '956'}, 13: {'name': 'O', 'xmin': '4', 'ymin': '4', 'xmax': '260', 'ymax': '260'}, 14: {'name': 'O', 'xmin': '774', 'ymin': '4', 'xmax': '1031', 'ymax': '260'}}, 10: {'header': {'filename': 'bild_2018-08-08_120015411.bmp', 'path': 'C:\\\\Users\\\\User\\\\Desktop\\\\Laederach\\\\all_original_size\\\\bild_2018-08-08_120015411.bmp', 'width': '1288', 'height': '960', 'depth': '3', 'number_objects': 14}, 0: {'name': 'B', 'xmin': '242', 'ymin': '604', 'xmax': '498', 'ymax': '860'}, 1: {'name': 'B', 'xmin': '218', 'ymin': '238', 'xmax': '474', 'ymax': '494'}, 2: {'name': 'B', 'xmin': '529', 'ymin': '405', 'xmax': '785', 'ymax': '661'}, 3: {'name': 'B', 'xmin': '844', 'ymin': '572', 'xmax': '1100', 'ymax': '828'}, 4: {'name': 'B', 'xmin': '504', 'ymin': '40', 'xmax': '760', 'ymax': '294'}, 5: {'name': 'B', 'xmin': '797', 'ymin': '201', 'xmax': '1053', 'ymax': '456'}, 6: {'name': 'B', 'xmin': '4', 'ymin': '444', 'xmax': '260', 'ymax': '700'}, 7: {'name': 'B', 'xmin': '7', 'ymin': '85', 'xmax': '263', 'ymax': '341'}, 8: {'name': 'B', 'xmin': '3', 'ymin': '701', 'xmax': '259', 'ymax': '957'}, 9: {'name': 'B', 'xmin': '559', 'ymin': '701', 'xmax': '815', 'ymax': '957'}, 10: {'name': 'B', 'xmin': '1027', 'ymin': '18', 'xmax': '1283', 'ymax': '274'}, 11: {'name': 'B', 'xmin': '1027', 'ymin': '375', 'xmax': '1283', 'ymax': '630'}, 12: {'name': 'B', 'xmin': '1028', 'ymin': '702', 'xmax': '1284', 'ymax': '957'}, 13: {'name': 'B', 'xmin': '186', 'ymin': '3', 'xmax': '442', 'ymax': '257'}}, 11: {'header': {'filename': 'bild_2018-08-08_120017570.bmp', 'path': 'C:\\\\Users\\\\User\\\\Desktop\\\\Laederach\\\\all_original_size\\\\bild_2018-08-08_120017570.bmp', 'width': '1288', 'height': '960', 'depth': '3', 'number_objects': 10}, 0: {'name': 'H', 'xmin': '402', 'ymin': '643', 'xmax': '658', 'ymax': '899'}, 1: {'name': 'H', 'xmin': '388', 'ymin': '213', 'xmax': '644', 'ymax': '469'}, 2: {'name': 'H', 'xmin': '32', 'ymin': '18', 'xmax': '288', 'ymax': '274'}, 3: {'name': 'H', 'xmin': '47', 'ymin': '440', 'xmax': '303', 'ymax': '696'}, 4: {'name': 'H', 'xmin': '735', 'ymin': '407', 'xmax': '991', 'ymax': '663'}, 5: {'name': 'H', 'xmin': '64', 'ymin': '697', 'xmax': '320', 'ymax': '953'}, 6: {'name': 'H', 'xmin': '743', 'ymin': '701', 'xmax': '999', 'ymax': '957'}, 7: {'name': 'H', 'xmin': '1028', 'ymin': '591', 'xmax': '1284', 'ymax': '847'}, 8: {'name': 'H', 'xmin': '1025', 'ymin': '183', 'xmax': '1281', 'ymax': '439'}, 9: {'name': 'H', 'xmin': '708', 'ymin': '7', 'xmax': '964', 'ymax': '263'}}, 12: {'header': {'filename': 'bild_2018-08-08_120019978.bmp', 'path': 'C:\\\\Users\\\\User\\\\Desktop\\\\Laederach\\\\all_original_size\\\\bild_2018-08-08_120019978.bmp', 'width': '1288', 'height': '960', 'depth': '3', 'number_objects': 10}, 0: {'name': 'K', 'xmin': '401', 'ymin': '526', 'xmax': '657', 'ymax': '782'}, 1: {'name': 'K', 'xmin': '379', 'ymin': '111', 'xmax': '635', 'ymax': '367'}, 2: {'name': 'K', 'xmin': '50', 'ymin': '358', 'xmax': '306', 'ymax': '614'}, 3: {'name': 'K', 'xmin': '727', 'ymin': '314', 'xmax': '983', 'ymax': '570'}, 4: {'name': 'K', 'xmin': '29', 'ymin': '4', 'xmax': '285', 'ymax': '260'}, 5: {'name': 'K', 'xmin': '72', 'ymin': '700', 'xmax': '328', 'ymax': '956'}, 6: {'name': 'K', 'xmin': '763', 'ymin': '700', 'xmax': '1019', 'ymax': '956'}, 7: {'name': 'K', 'xmin': '1028', 'ymin': '47', 'xmax': '1284', 'ymax': '303'}, 8: {'name': 'K', 'xmin': '1027', 'ymin': '480', 'xmax': '1283', 'ymax': '736'}, 9: {'name': 'K', 'xmin': '713', 'ymin': '4', 'xmax': '970', 'ymax': '260'}}, 13: {'header': {'filename': 'bild_2018-08-08_120021906.bmp', 'path': 'C:\\\\Users\\\\User\\\\Desktop\\\\Laederach\\\\all_original_size\\\\bild_2018-08-08_120021906.bmp', 'width': '1288', 'height': '960', 'depth': '3', 'number_objects': 12}, 0: {'name': 'B', 'xmin': '263', 'ymin': '440', 'xmax': '519', 'ymax': '696'}, 1: {'name': 'B', 'xmin': '248', 'ymin': '68', 'xmax': '504', 'ymax': '324'}, 2: {'name': 'B', 'xmin': '574', 'ymin': '244', 'xmax': '830', 'ymax': '500'}, 3: {'name': 'B', 'xmin': '862', 'ymin': '30', 'xmax': '1119', 'ymax': '286'}, 4: {'name': 'B', 'xmin': '889', 'ymin': '401', 'xmax': '1146', 'ymax': '657'}, 5: {'name': 'B', 'xmin': '592', 'ymin': '593', 'xmax': '848', 'ymax': '849'}, 6: {'name': 'B', 'xmin': '6', 'ymin': '271', 'xmax': '262', 'ymax': '527'}, 7: {'name': 'B', 'xmin': '3', 'ymin': '3', 'xmax': '259', 'ymax': '259'}, 8: {'name': 'B', 'xmin': '4', 'ymin': '630', 'xmax': '260', 'ymax': '886'}, 9: {'name': 'B', 'xmin': '285', 'ymin': '696', 'xmax': '541', 'ymax': '952'}, 10: {'name': 'B', 'xmin': '894', 'ymin': '700', 'xmax': '1150', 'ymax': '956'}, 11: {'name': 'B', 'xmin': '551', 'ymin': '4', 'xmax': '808', 'ymax': '260'}}, 14: {'header': {'filename': 'bild_2018-08-08_120024258.bmp', 'path': 'C:\\\\Users\\\\User\\\\Desktop\\\\Laederach\\\\all_original_size\\\\bild_2018-08-08_120024258.bmp', 'width': '1288', 'height': '960', 'depth': '3', 'number_objects': 10}, 0: {'name': 'H', 'xmin': '398', 'ymin': '644', 'xmax': '654', 'ymax': '900'}, 1: {'name': 'H', 'xmin': '399', 'ymin': '210', 'xmax': '655', 'ymax': '466'}, 2: {'name': 'H', 'xmin': '39', 'ymin': '18', 'xmax': '295', 'ymax': '274'}, 3: {'name': 'H', 'xmin': '57', 'ymin': '427', 'xmax': '313', 'ymax': '683'}, 4: {'name': 'H', 'xmin': '732', 'ymin': '406', 'xmax': '988', 'ymax': '662'}, 5: {'name': 'H', 'xmin': '718', 'ymin': '3', 'xmax': '974', 'ymax': '259'}, 6: {'name': 'H', 'xmin': '1026', 'ymin': '173', 'xmax': '1282', 'ymax': '429'}, 7: {'name': 'H', 'xmin': '1027', 'ymin': '589', 'xmax': '1283', 'ymax': '845'}, 8: {'name': 'H', 'xmin': '755', 'ymin': '700', 'xmax': '1011', 'ymax': '956'}, 9: {'name': 'H', 'xmin': '81', 'ymin': '701', 'xmax': '337', 'ymax': '957'}}, 15: {'header': {'filename': 'bild_2018-08-08_120026835.bmp', 'path': 'C:\\\\Users\\\\User\\\\Desktop\\\\Laederach\\\\all_original_size\\\\bild_2018-08-08_120026835.bmp', 'width': '1288', 'height': '960', 'depth': '3', 'number_objects': 12}, 0: {'name': 'O', 'xmin': '491', 'ymin': '490', 'xmax': '747', 'ymax': '746'}, 1: {'name': 'O', 'xmin': '46', 'ymin': '176', 'xmax': '302', 'ymax': '433'}, 2: {'name': 'O', 'xmin': '64', 'ymin': '515', 'xmax': '320', 'ymax': '771'}, 3: {'name': 'O', 'xmin': '708', 'ymin': '311', 'xmax': '964', 'ymax': '567'}, 4: {'name': 'O', 'xmin': '717', 'ymin': '651', 'xmax': '973', 'ymax': '907'}, 5: {'name': 'O', 'xmin': '909', 'ymin': '137', 'xmax': '1165', 'ymax': '393'}, 6: {'name': 'O', 'xmin': '480', 'ymin': '150', 'xmax': '736', 'ymax': '405'}, 7: {'name': 'O', 'xmin': '277', 'ymin': '342', 'xmax': '534', 'ymax': '598'}, 8: {'name': 'O', 'xmin': '286', 'ymin': '671', 'xmax': '542', 'ymax': '927'}, 9: {'name': 'O', 'xmin': '912', 'ymin': '477', 'xmax': '1168', 'ymax': '733'}, 10: {'name': 'O', 'xmin': '259', 'ymin': '3', 'xmax': '515', 'ymax': '260'}, 11: {'name': 'O', 'xmin': '715', 'ymin': '3', 'xmax': '971', 'ymax': '260'}}, 16: {'header': {'filename': 'bild_2018-08-08_120029066.bmp', 'path': 'C:\\\\Users\\\\User\\\\Desktop\\\\Laederach\\\\all_original_size\\\\bild_2018-08-08_120029066.bmp', 'width': '1288', 'height': '960', 'depth': '3', 'number_objects': 10}, 0: {'name': 'H', 'xmin': '412', 'ymin': '649', 'xmax': '668', 'ymax': '905'}, 1: {'name': 'H', 'xmin': '388', 'ymin': '231', 'xmax': '644', 'ymax': '487'}, 2: {'name': 'H', 'xmin': '36', 'ymin': '33', 'xmax': '292', 'ymax': '289'}, 3: {'name': 'H', 'xmin': '58', 'ymin': '444', 'xmax': '314', 'ymax': '700'}, 4: {'name': 'H', 'xmin': '732', 'ymin': '420', 'xmax': '988', 'ymax': '676'}, 5: {'name': 'H', 'xmin': '721', 'ymin': '9', 'xmax': '977', 'ymax': '263'}, 6: {'name': 'H', 'xmin': '93', 'ymin': '701', 'xmax': '349', 'ymax': '957'}, 7: {'name': 'H', 'xmin': '756', 'ymin': '701', 'xmax': '1012', 'ymax': '957'}, 8: {'name': 'H', 'xmin': '1027', 'ymin': '183', 'xmax': '1283', 'ymax': '439'}, 9: {'name': 'H', 'xmin': '1028', 'ymin': '608', 'xmax': '1284', 'ymax': '862'}}, 17: {'header': {'filename': 'bild_2018-08-08_120031211.bmp', 'path': 'C:\\\\Users\\\\User\\\\Desktop\\\\Laederach\\\\all_original_size\\\\bild_2018-08-08_120031211.bmp', 'width': '1288', 'height': '960', 'depth': '3', 'number_objects': 10}, 0: {'name': 'K', 'xmin': '374', 'ymin': '555', 'xmax': '630', 'ymax': '811'}, 1: {'name': 'K', 'xmin': '345', 'ymin': '120', 'xmax': '601', 'ymax': '376'}, 2: {'name': 'K', 'xmin': '25', 'ymin': '388', 'xmax': '281', 'ymax': '644'}, 3: {'name': 'K', 'xmin': '688', 'ymin': '361', 'xmax': '944', 'ymax': '617'}, 4: {'name': 'K', 'xmin': '5', 'ymin': '4', 'xmax': '261', 'ymax': '260'}, 5: {'name': 'K', 'xmin': '702', 'ymin': '703', 'xmax': '958', 'ymax': '959'}, 6: {'name': 'K', 'xmin': '31', 'ymin': '703', 'xmax': '287', 'ymax': '959'}, 7: {'name': 'K', 'xmin': '1014', 'ymin': '523', 'xmax': '1270', 'ymax': '779'}, 8: {'name': 'K', 'xmin': '1010', 'ymin': '72', 'xmax': '1266', 'ymax': '328'}, 9: {'name': 'K', 'xmin': '658', 'ymin': '2', 'xmax': '914', 'ymax': '258'}}, 18: {'header': {'filename': 'bild_2018-08-08_120033426.bmp', 'path': 'C:\\\\Users\\\\User\\\\Desktop\\\\Laederach\\\\all_original_size\\\\bild_2018-08-08_120033426.bmp', 'width': '1288', 'height': '960', 'depth': '3', 'number_objects': 13}, 0: {'name': 'O', 'xmin': '298', 'ymin': '352', 'xmax': '554', 'ymax': '608'}, 1: {'name': 'O', 'xmin': '264', 'ymin': '9', 'xmax': '520', 'ymax': '265'}, 2: {'name': 'O', 'xmin': '56', 'ymin': '190', 'xmax': '312', 'ymax': '447'}, 3: {'name': 'O', 'xmin': '80', 'ymin': '524', 'xmax': '336', 'ymax': '780'}, 4: {'name': 'O', 'xmin': '719', 'ymin': '333', 'xmax': '975', 'ymax': '589'}, 5: {'name': 'O', 'xmin': '941', 'ymin': '485', 'xmax': '1197', 'ymax': '741'}, 6: {'name': 'O', 'xmin': '728', 'ymin': '664', 'xmax': '984', 'ymax': '920'}, 7: {'name': 'O', 'xmin': '317', 'ymin': '685', 'xmax': '574', 'ymax': '941'}, 8: {'name': 'O', 'xmin': '497', 'ymin': '168', 'xmax': '753', 'ymax': '424'}, 9: {'name': 'O', 'xmin': '522', 'ymin': '509', 'xmax': '778', 'ymax': '765'}, 10: {'name': 'O', 'xmin': '932', 'ymin': '149', 'xmax': '1188', 'ymax': '405'}, 11: {'name': 'O', 'xmin': '702', 'ymin': '3', 'xmax': '958', 'ymax': '259'}, 12: {'name': 'O', 'xmin': '1026', 'ymin': '299', 'xmax': '1282', 'ymax': '555'}}, 19: {'header': {'filename': 'bild_2018-08-08_120035251.bmp', 'path': 'C:\\\\Users\\\\User\\\\Desktop\\\\Laederach\\\\all_original_size\\\\bild_2018-08-08_120035251.bmp', 'width': '1288', 'height': '960', 'depth': '3', 'number_objects': 11}, 0: {'name': 'H', 'xmin': '347', 'ymin': '656', 'xmax': '603', 'ymax': '912'}, 1: {'name': 'H', 'xmin': '326', 'ymin': '231', 'xmax': '582', 'ymax': '487'}, 2: {'name': 'H', 'xmin': '679', 'ymin': '422', 'xmax': '935', 'ymax': '678'}, 3: {'name': 'H', 'xmin': '1015', 'ymin': '617', 'xmax': '1271', 'ymax': '873'}, 4: {'name': 'H', 'xmin': '1011', 'ymin': '203', 'xmax': '1267', 'ymax': '459'}, 5: {'name': 'H', 'xmin': '5', 'ymin': '36', 'xmax': '261', 'ymax': '292'}, 6: {'name': 'H', 'xmin': '5', 'ymin': '456', 'xmax': '261', 'ymax': '712'}, 7: {'name': 'H', 'xmin': '725', 'ymin': '701', 'xmax': '981', 'ymax': '957'}, 8: {'name': 'H', 'xmin': '28', 'ymin': '701', 'xmax': '284', 'ymax': '957'}, 9: {'name': 'H', 'xmin': '673', 'ymin': '5', 'xmax': '929', 'ymax': '261'}, 10: {'name': 'H', 'xmin': '307', 'ymin': '4', 'xmax': '563', 'ymax': '260'}}, 20: {'header': {'filename': 'bild_2018-08-08_120037482.bmp', 'path': 'C:\\\\Users\\\\User\\\\Desktop\\\\Laederach\\\\all_original_size\\\\bild_2018-08-08_120037482.bmp', 'width': '1288', 'height': '960', 'depth': '3', 'number_objects': 10}, 0: {'name': 'H', 'xmin': '340', 'ymin': '616', 'xmax': '596', 'ymax': '872'}, 1: {'name': 'H', 'xmin': '323', 'ymin': '203', 'xmax': '579', 'ymax': '459'}, 2: {'name': 'H', 'xmin': '672', 'ymin': '404', 'xmax': '928', 'ymax': '660'}, 3: {'name': 'H', 'xmin': '1008', 'ymin': '588', 'xmax': '1264', 'ymax': '844'}, 4: {'name': 'H', 'xmin': '1000', 'ymin': '167', 'xmax': '1256', 'ymax': '423'}, 5: {'name': 'H', 'xmin': '4', 'ymin': '3', 'xmax': '260', 'ymax': '259'}, 6: {'name': 'H', 'xmin': '4', 'ymin': '431', 'xmax': '260', 'ymax': '687'}, 7: {'name': 'H', 'xmin': '21', 'ymin': '700', 'xmax': '277', 'ymax': '956'}, 8: {'name': 'H', 'xmin': '696', 'ymin': '701', 'xmax': '952', 'ymax': '957'}, 9: {'name': 'H', 'xmin': '635', 'ymin': '4', 'xmax': '892', 'ymax': '260'}}, 21: {'header': {'filename': 'bild_2018-08-08_120039626.bmp', 'path': 'C:\\\\Users\\\\User\\\\Desktop\\\\Laederach\\\\all_original_size\\\\bild_2018-08-08_120039626.bmp', 'width': '1288', 'height': '960', 'depth': '3', 'number_objects': 10}, 0: {'name': 'H', 'xmin': '356', 'ymin': '651', 'xmax': '612', 'ymax': '907'}, 1: {'name': 'H', 'xmin': '333', 'ymin': '217', 'xmax': '589', 'ymax': '473'}, 2: {'name': 'H', 'xmin': '679', 'ymin': '417', 'xmax': '935', 'ymax': '673'}, 3: {'name': 'H', 'xmin': '1025', 'ymin': '610', 'xmax': '1281', 'ymax': '866'}, 4: {'name': 'H', 'xmin': '1015', 'ymin': '198', 'xmax': '1271', 'ymax': '454'}, 5: {'name': 'H', 'xmin': '4', 'ymin': '23', 'xmax': '260', 'ymax': '279'}, 6: {'name': 'H', 'xmin': '7', 'ymin': '449', 'xmax': '263', 'ymax': '705'}, 7: {'name': 'H', 'xmin': '24', 'ymin': '701', 'xmax': '280', 'ymax': '957'}, 8: {'name': 'H', 'xmin': '669', 'ymin': '3', 'xmax': '925', 'ymax': '259'}, 9: {'name': 'H', 'xmin': '702', 'ymin': '700', 'xmax': '958', 'ymax': '956'}}, 22: {'header': {'filename': 'bild_2018-08-08_120041930.bmp', 'path': 'C:\\\\Users\\\\User\\\\Desktop\\\\Laederach\\\\all_original_size\\\\bild_2018-08-08_120041930.bmp', 'width': '1288', 'height': '960', 'depth': '3', 'number_objects': 10}, 0: {'name': 'H', 'xmin': '354', 'ymin': '641', 'xmax': '610', 'ymax': '897'}, 1: {'name': 'H', 'xmin': '323', 'ymin': '210', 'xmax': '579', 'ymax': '466'}, 2: {'name': 'H', 'xmin': '687', 'ymin': '400', 'xmax': '943', 'ymax': '656'}, 3: {'name': 'H', 'xmin': '1016', 'ymin': '179', 'xmax': '1272', 'ymax': '435'}, 4: {'name': 'H', 'xmin': '11', 'ymin': '435', 'xmax': '267', 'ymax': '691'}, 5: {'name': 'H', 'xmin': '4', 'ymin': '21', 'xmax': '260', 'ymax': '277'}, 6: {'name': 'H', 'xmin': '20', 'ymin': '701', 'xmax': '276', 'ymax': '957'}, 7: {'name': 'H', 'xmin': '714', 'ymin': '700', 'xmax': '970', 'ymax': '956'}, 8: {'name': 'H', 'xmin': '1026', 'ymin': '581', 'xmax': '1282', 'ymax': '837'}, 9: {'name': 'H', 'xmin': '651', 'ymin': '4', 'xmax': '908', 'ymax': '260'}}, 23: {'header': {'filename': 'bild_2018-08-08_120043818.bmp', 'path': 'C:\\\\Users\\\\User\\\\Desktop\\\\Laederach\\\\all_original_size\\\\bild_2018-08-08_120043818.bmp', 'width': '1288', 'height': '960', 'depth': '3', 'number_objects': 11}, 0: {'name': 'H', 'xmin': '443', 'ymin': '673', 'xmax': '699', 'ymax': '929'}, 1: {'name': 'H', 'xmin': '60', 'ymin': '52', 'xmax': '316', 'ymax': '308'}, 2: {'name': 'H', 'xmin': '90', 'ymin': '459', 'xmax': '347', 'ymax': '715'}, 3: {'name': 'H', 'xmin': '769', 'ymin': '434', 'xmax': '1025', 'ymax': '690'}, 4: {'name': 'H', 'xmin': '737', 'ymin': '13', 'xmax': '993', 'ymax': '267'}, 5: {'name': 'H', 'xmin': '414', 'ymin': '245', 'xmax': '670', 'ymax': '502'}, 6: {'name': 'H', 'xmin': '107', 'ymin': '701', 'xmax': '364', 'ymax': '957'}, 7: {'name': 'H', 'xmin': '807', 'ymin': '699', 'xmax': '1063', 'ymax': '955'}, 8: {'name': 'H', 'xmin': '1029', 'ymin': '202', 'xmax': '1285', 'ymax': '458'}, 9: {'name': 'H', 'xmin': '1028', 'ymin': '615', 'xmax': '1284', 'ymax': '871'}, 10: {'name': 'H', 'xmin': '376', 'ymin': '3', 'xmax': '632', 'ymax': '257'}}, 24: {'header': {'filename': 'bild_2018-08-08_120046011.bmp', 'path': 'C:\\\\Users\\\\User\\\\Desktop\\\\Laederach\\\\all_original_size\\\\bild_2018-08-08_120046011.bmp', 'width': '1288', 'height': '960', 'depth': '3', 'number_objects': 9}, 0: {'name': 'K', 'xmin': '305', 'ymin': '286', 'xmax': '561', 'ymax': '542'}, 1: {'name': 'K', 'xmin': '661', 'ymin': '529', 'xmax': '917', 'ymax': '785'}, 2: {'name': 'K', 'xmin': '984', 'ymin': '693', 'xmax': '1240', 'ymax': '949'}, 3: {'name': 'K', 'xmin': '978', 'ymin': '279', 'xmax': '1234', 'ymax': '535'}, 4: {'name': 'K', 'xmin': '640', 'ymin': '95', 'xmax': '896', 'ymax': '349'}, 5: {'name': 'K', 'xmin': '4', 'ymin': '144', 'xmax': '260', 'ymax': '400'}, 6: {'name': 'K', 'xmin': '6', 'ymin': '559', 'xmax': '262', 'ymax': '815'}, 7: {'name': 'K', 'xmin': '323', 'ymin': '697', 'xmax': '579', 'ymax': '953'}, 8: {'name': 'K', 'xmin': '312', 'ymin': '4', 'xmax': '568', 'ymax': '260'}}, 25: {'header': {'filename': 'bild_2018-08-08_120050274.bmp', 'path': 'C:\\\\Users\\\\User\\\\Desktop\\\\Laederach\\\\all_original_size\\\\bild_2018-08-08_120050274.bmp', 'width': '1288', 'height': '960', 'depth': '3', 'number_objects': 8}, 0: {'name': 'K', 'xmin': '325', 'ymin': '291', 'xmax': '581', 'ymax': '547'}, 1: {'name': 'K', 'xmin': '681', 'ymin': '506', 'xmax': '937', 'ymax': '762'}, 2: {'name': 'K', 'xmin': '1017', 'ymin': '679', 'xmax': '1273', 'ymax': '935'}, 3: {'name': 'K', 'xmin': '998', 'ymin': '249', 'xmax': '1254', 'ymax': '505'}, 4: {'name': 'K', 'xmin': '649', 'ymin': '70', 'xmax': '905', 'ymax': '324'}, 5: {'name': 'K', 'xmin': '7', 'ymin': '103', 'xmax': '263', 'ymax': '358'}, 6: {'name': 'K', 'xmin': '24', 'ymin': '545', 'xmax': '280', 'ymax': '801'}, 7: {'name': 'K', 'xmin': '361', 'ymin': '692', 'xmax': '617', 'ymax': '948'}}, 26: {'header': {'filename': 'bild_2018-08-08_120052330.bmp', 'path': 'C:\\\\Users\\\\User\\\\Desktop\\\\Laederach\\\\all_original_size\\\\bild_2018-08-08_120052330.bmp', 'width': '1288', 'height': '960', 'depth': '3', 'number_objects': 8}, 0: {'name': 'K', 'xmin': '304', 'ymin': '678', 'xmax': '560', 'ymax': '934'}, 1: {'name': 'K', 'xmin': '270', 'ymin': '249', 'xmax': '526', 'ymax': '505'}, 2: {'name': 'K', 'xmin': '640', 'ymin': '484', 'xmax': '896', 'ymax': '740'}, 3: {'name': 'K', 'xmin': '972', 'ymin': '657', 'xmax': '1228', 'ymax': '913'}, 4: {'name': 'K', 'xmin': '957', 'ymin': '225', 'xmax': '1213', 'ymax': '481'}, 5: {'name': 'K', 'xmin': '624', 'ymin': '42', 'xmax': '880', 'ymax': '296'}, 6: {'name': 'K', 'xmin': '5', 'ymin': '77', 'xmax': '261', 'ymax': '333'}, 7: {'name': 'K', 'xmin': '6', 'ymin': '515', 'xmax': '262', 'ymax': '771'}}, 27: {'header': {'filename': 'bild_2018-08-08_120054602.bmp', 'path': 'C:\\\\Users\\\\User\\\\Desktop\\\\Laederach\\\\all_original_size\\\\bild_2018-08-08_120054602.bmp', 'width': '1288', 'height': '960', 'depth': '3', 'number_objects': 8}, 0: {'name': 'K', 'xmin': '334', 'ymin': '696', 'xmax': '590', 'ymax': '952'}, 1: {'name': 'K', 'xmin': '311', 'ymin': '278', 'xmax': '567', 'ymax': '534'}, 2: {'name': 'K', 'xmin': '673', 'ymin': '496', 'xmax': '929', 'ymax': '752'}, 3: {'name': 'K', 'xmin': '995', 'ymin': '676', 'xmax': '1251', 'ymax': '932'}, 4: {'name': 'K', 'xmin': '990', 'ymin': '238', 'xmax': '1246', 'ymax': '494'}, 5: {'name': 'K', 'xmin': '654', 'ymin': '63', 'xmax': '910', 'ymax': '317'}, 6: {'name': 'K', 'xmin': '4', 'ymin': '103', 'xmax': '260', 'ymax': '359'}, 7: {'name': 'K', 'xmin': '12', 'ymin': '518', 'xmax': '268', 'ymax': '774'}}, 28: {'header': {'filename': 'bild_2018-08-08_120056619.bmp', 'path': 'C:\\\\Users\\\\User\\\\Desktop\\\\Laederach\\\\all_original_size\\\\bild_2018-08-08_120056619.bmp', 'width': '1288', 'height': '960', 'depth': '3', 'number_objects': 8}, 0: {'name': 'K', 'xmin': '350', 'ymin': '285', 'xmax': '606', 'ymax': '541'}, 1: {'name': 'K', 'xmin': '17', 'ymin': '111', 'xmax': '273', 'ymax': '367'}, 2: {'name': 'K', 'xmin': '42', 'ymin': '551', 'xmax': '298', 'ymax': '807'}, 3: {'name': 'K', 'xmin': '723', 'ymin': '526', 'xmax': '979', 'ymax': '782'}, 4: {'name': 'K', 'xmin': '680', 'ymin': '82', 'xmax': '936', 'ymax': '336'}, 5: {'name': 'K', 'xmin': '396', 'ymin': '696', 'xmax': '652', 'ymax': '952'}, 6: {'name': 'K', 'xmin': '1023', 'ymin': '677', 'xmax': '1279', 'ymax': '933'}, 7: {'name': 'K', 'xmin': '1025', 'ymin': '247', 'xmax': '1281', 'ymax': '503'}}, 29: {'header': {'filename': 'bild_2018-08-08_120058674.bmp', 'path': 'C:\\\\Users\\\\User\\\\Desktop\\\\Laederach\\\\all_original_size\\\\bild_2018-08-08_120058674.bmp', 'width': '1288', 'height': '960', 'depth': '3', 'number_objects': 9}, 0: {'name': 'K', 'xmin': '389', 'ymin': '587', 'xmax': '645', 'ymax': '843'}, 1: {'name': 'K', 'xmin': '379', 'ymin': '147', 'xmax': '635', 'ymax': '403'}, 2: {'name': 'K', 'xmin': '59', 'ymin': '423', 'xmax': '315', 'ymax': '679'}, 3: {'name': 'K', 'xmin': '731', 'ymin': '395', 'xmax': '987', 'ymax': '651'}, 4: {'name': 'K', 'xmin': '6', 'ymin': '4', 'xmax': '262', 'ymax': '260'}, 5: {'name': 'K', 'xmin': '693', 'ymin': '5', 'xmax': '949', 'ymax': '261'}, 6: {'name': 'K', 'xmin': '1026', 'ymin': '110', 'xmax': '1282', 'ymax': '366'}, 7: {'name': 'K', 'xmin': '1026', 'ymin': '543', 'xmax': '1282', 'ymax': '799'}, 8: {'name': 'K', 'xmin': '734', 'ymin': '701', 'xmax': '990', 'ymax': '957'}}, 30: {'header': {'filename': 'bild_2018-08-08_120100539.bmp', 'path': 'C:\\\\Users\\\\User\\\\Desktop\\\\Laederach\\\\all_original_size\\\\bild_2018-08-08_120100539.bmp', 'width': '1288', 'height': '960', 'depth': '3', 'number_objects': 13}, 0: {'name': 'B', 'xmin': '256', 'ymin': '409', 'xmax': '512', 'ymax': '665'}, 1: {'name': 'B', 'xmin': '251', 'ymin': '55', 'xmax': '507', 'ymax': '311'}, 2: {'name': 'B', 'xmin': '560', 'ymin': '574', 'xmax': '816', 'ymax': '830'}, 3: {'name': 'B', 'xmin': '552', 'ymin': '215', 'xmax': '808', 'ymax': '470'}, 4: {'name': 'B', 'xmin': '845', 'ymin': '20', 'xmax': '1101', 'ymax': '274'}, 5: {'name': 'B', 'xmin': '859', 'ymin': '387', 'xmax': '1115', 'ymax': '641'}, 6: {'name': 'B', 'xmin': '6', 'ymin': '239', 'xmax': '262', 'ymax': '496'}, 7: {'name': 'B', 'xmin': '3', 'ymin': '3', 'xmax': '259', 'ymax': '259'}, 8: {'name': 'B', 'xmin': '7', 'ymin': '617', 'xmax': '263', 'ymax': '873'}, 9: {'name': 'B', 'xmin': '266', 'ymin': '694', 'xmax': '522', 'ymax': '950'}, 10: {'name': 'B', 'xmin': '875', 'ymin': '700', 'xmax': '1131', 'ymax': '956'}, 11: {'name': 'B', 'xmin': '521', 'ymin': '5', 'xmax': '777', 'ymax': '259'}, 12: {'name': 'B', 'xmin': '1028', 'ymin': '184', 'xmax': '1284', 'ymax': '438'}}, 31: {'header': {'filename': 'bild_2018-08-08_120103875.bmp', 'path': 'C:\\\\Users\\\\User\\\\Desktop\\\\Laederach\\\\all_original_size\\\\bild_2018-08-08_120103875.bmp', 'width': '1288', 'height': '960', 'depth': '3', 'number_objects': 10}, 0: {'name': 'H', 'xmin': '403', 'ymin': '653', 'xmax': '659', 'ymax': '909'}, 1: {'name': 'H', 'xmin': '373', 'ymin': '215', 'xmax': '629', 'ymax': '471'}, 2: {'name': 'H', 'xmin': '28', 'ymin': '32', 'xmax': '284', 'ymax': '288'}, 3: {'name': 'H', 'xmin': '61', 'ymin': '464', 'xmax': '317', 'ymax': '720'}, 4: {'name': 'H', 'xmin': '734', 'ymin': '409', 'xmax': '990', 'ymax': '665'}, 5: {'name': 'H', 'xmin': '67', 'ymin': '701', 'xmax': '323', 'ymax': '957'}, 6: {'name': 'H', 'xmin': '745', 'ymin': '701', 'xmax': '1001', 'ymax': '957'}, 7: {'name': 'H', 'xmin': '1029', 'ymin': '600', 'xmax': '1285', 'ymax': '856'}, 8: {'name': 'H', 'xmin': '1028', 'ymin': '176', 'xmax': '1284', 'ymax': '432'}, 9: {'name': 'H', 'xmin': '698', 'ymin': '4', 'xmax': '954', 'ymax': '260'}}, 32: {'header': {'filename': 'bild_2018-08-08_120113107.bmp', 'path': 'C:\\\\Users\\\\User\\\\Desktop\\\\Laederach\\\\all_original_size\\\\bild_2018-08-08_120113107.bmp', 'width': '1288', 'height': '960', 'depth': '3', 'number_objects': 13}, 0: {'name': 'O', 'xmin': '300', 'ymin': '651', 'xmax': '556', 'ymax': '907'}, 1: {'name': 'O', 'xmin': '288', 'ymin': '314', 'xmax': '544', 'ymax': '570'}, 2: {'name': 'O', 'xmin': '45', 'ymin': '167', 'xmax': '301', 'ymax': '424'}, 3: {'name': 'O', 'xmin': '67', 'ymin': '503', 'xmax': '323', 'ymax': '759'}, 4: {'name': 'O', 'xmin': '713', 'ymin': '293', 'xmax': '970', 'ymax': '549'}, 5: {'name': 'O', 'xmin': '938', 'ymin': '454', 'xmax': '1194', 'ymax': '710'}, 6: {'name': 'O', 'xmin': '729', 'ymin': '627', 'xmax': '985', 'ymax': '883'}, 7: {'name': 'O', 'xmin': '911', 'ymin': '107', 'xmax': '1167', 'ymax': '363'}, 8: {'name': 'O', 'xmin': '490', 'ymin': '132', 'xmax': '746', 'ymax': '387'}, 9: {'name': 'O', 'xmin': '496', 'ymin': '476', 'xmax': '752', 'ymax': '730'}, 10: {'name': 'O', 'xmin': '276', 'ymin': '4', 'xmax': '532', 'ymax': '261'}, 11: {'name': 'O', 'xmin': '701', 'ymin': '4', 'xmax': '958', 'ymax': '260'}, 12: {'name': 'O', 'xmin': '1028', 'ymin': '242', 'xmax': '1284', 'ymax': '498'}}, 33: {'header': {'filename': 'bild_2018-08-08_120139706.bmp', 'path': 'C:\\\\Users\\\\User\\\\Desktop\\\\Laederach\\\\all_original_size\\\\bild_2018-08-08_120139706.bmp', 'width': '1288', 'height': '960', 'depth': '3', 'number_objects': 14}, 0: {'name': 'O', 'xmin': '450', 'ymin': '480', 'xmax': '706', 'ymax': '736'}, 1: {'name': 'O', 'xmin': '226', 'ymin': '330', 'xmax': '482', 'ymax': '586'}, 2: {'name': 'O', 'xmin': '25', 'ymin': '509', 'xmax': '281', 'ymax': '765'}, 3: {'name': 'O', 'xmin': '691', 'ymin': '634', 'xmax': '947', 'ymax': '890'}, 4: {'name': 'O', 'xmin': '433', 'ymin': '150', 'xmax': '690', 'ymax': '406'}, 5: {'name': 'O', 'xmin': '251', 'ymin': '657', 'xmax': '508', 'ymax': '913'}, 6: {'name': 'O', 'xmin': '679', 'ymin': '304', 'xmax': '935', 'ymax': '560'}, 7: {'name': 'O', 'xmin': '865', 'ymin': '121', 'xmax': '1121', 'ymax': '377'}, 8: {'name': 'O', 'xmin': '883', 'ymin': '456', 'xmax': '1139', 'ymax': '712'}, 9: {'name': 'O', 'xmin': '29', 'ymin': '162', 'xmax': '285', 'ymax': '418'}, 10: {'name': 'O', 'xmin': '231', 'ymin': '6', 'xmax': '487', 'ymax': '262'}, 11: {'name': 'O', 'xmin': '1026', 'ymin': '269', 'xmax': '1283', 'ymax': '525'}, 12: {'name': 'O', 'xmin': '1027', 'ymin': '611', 'xmax': '1283', 'ymax': '867'}, 13: {'name': 'O', 'xmin': '657', 'ymin': '3', 'xmax': '913', 'ymax': '259'}}, 34: {'header': {'filename': 'bild_2018-08-08_120142138.bmp', 'path': 'C:\\\\Users\\\\User\\\\Desktop\\\\Laederach\\\\all_original_size\\\\bild_2018-08-08_120142138.bmp', 'width': '1288', 'height': '960', 'depth': '3', 'number_objects': 10}, 0: {'name': 'K', 'xmin': '359', 'ymin': '559', 'xmax': '615', 'ymax': '815'}, 1: {'name': 'K', 'xmin': '333', 'ymin': '111', 'xmax': '589', 'ymax': '367'}, 2: {'name': 'K', 'xmin': '17', 'ymin': '391', 'xmax': '273', 'ymax': '647'}, 3: {'name': 'K', 'xmin': '687', 'ymin': '336', 'xmax': '943', 'ymax': '592'}, 4: {'name': 'K', 'xmin': '1002', 'ymin': '75', 'xmax': '1258', 'ymax': '331'}, 5: {'name': 'K', 'xmin': '30', 'ymin': '701', 'xmax': '286', 'ymax': '957'}, 6: {'name': 'K', 'xmin': '4', 'ymin': '3', 'xmax': '260', 'ymax': '259'}, 7: {'name': 'K', 'xmin': '657', 'ymin': '4', 'xmax': '913', 'ymax': '260'}, 8: {'name': 'K', 'xmin': '1024', 'ymin': '477', 'xmax': '1280', 'ymax': '733'}, 9: {'name': 'K', 'xmin': '690', 'ymin': '701', 'xmax': '946', 'ymax': '957'}}, 35: {'header': {'filename': 'bild_2018-08-08_120146227.bmp', 'path': 'C:\\\\Users\\\\User\\\\Desktop\\\\Laederach\\\\all_original_size\\\\bild_2018-08-08_120146227.bmp', 'width': '1288', 'height': '960', 'depth': '3', 'number_objects': 10}, 0: {'name': 'H', 'xmin': '339', 'ymin': '676', 'xmax': '595', 'ymax': '932'}, 1: {'name': 'H', 'xmin': '323', 'ymin': '259', 'xmax': '579', 'ymax': '515'}, 2: {'name': 'H', 'xmin': '674', 'ymin': '441', 'xmax': '930', 'ymax': '697'}, 3: {'name': 'H', 'xmin': '1018', 'ymin': '638', 'xmax': '1274', 'ymax': '894'}, 4: {'name': 'H', 'xmin': '995', 'ymin': '227', 'xmax': '1251', 'ymax': '483'}, 5: {'name': 'H', 'xmin': '651', 'ymin': '36', 'xmax': '907', 'ymax': '290'}, 6: {'name': 'H', 'xmin': '4', 'ymin': '54', 'xmax': '260', 'ymax': '310'}, 7: {'name': 'H', 'xmin': '5', 'ymin': '490', 'xmax': '261', 'ymax': '746'}, 8: {'name': 'H', 'xmin': '285', 'ymin': '3', 'xmax': '541', 'ymax': '257'}, 9: {'name': 'H', 'xmin': '690', 'ymin': '703', 'xmax': '946', 'ymax': '957'}}, 36: {'header': {'filename': 'bild_2018-08-08_120148315.bmp', 'path': 'C:\\\\Users\\\\User\\\\Desktop\\\\Laederach\\\\all_original_size\\\\bild_2018-08-08_120148315.bmp', 'width': '1288', 'height': '960', 'depth': '3', 'number_objects': 14}, 0: {'name': 'B', 'xmin': '225', 'ymin': '420', 'xmax': '481', 'ymax': '676'}, 1: {'name': 'B', 'xmin': '214', 'ymin': '62', 'xmax': '471', 'ymax': '318'}, 2: {'name': 'B', 'xmin': '531', 'ymin': '584', 'xmax': '787', 'ymax': '840'}, 3: {'name': 'B', 'xmin': '828', 'ymin': '384', 'xmax': '1085', 'ymax': '640'}, 4: {'name': 'B', 'xmin': '799', 'ymin': '20', 'xmax': '1055', 'ymax': '274'}, 5: {'name': 'B', 'xmin': '512', 'ymin': '224', 'xmax': '768', 'ymax': '480'}, 6: {'name': 'B', 'xmin': '4', 'ymin': '249', 'xmax': '261', 'ymax': '506'}, 7: {'name': 'B', 'xmin': '3', 'ymin': '612', 'xmax': '260', 'ymax': '868'}, 8: {'name': 'B', 'xmin': '243', 'ymin': '700', 'xmax': '499', 'ymax': '956'}, 9: {'name': 'B', 'xmin': '844', 'ymin': '699', 'xmax': '1100', 'ymax': '955'}, 10: {'name': 'B', 'xmin': '1027', 'ymin': '182', 'xmax': '1284', 'ymax': '438'}, 11: {'name': 'B', 'xmin': '1026', 'ymin': '550', 'xmax': '1283', 'ymax': '806'}, 12: {'name': 'B', 'xmin': '487', 'ymin': '3', 'xmax': '743', 'ymax': '257'}, 13: {'name': 'B', 'xmin': '4', 'ymin': '3', 'xmax': '261', 'ymax': '259'}}, 37: {'header': {'filename': 'bild_2018-08-08_120150618.bmp', 'path': 'C:\\\\Users\\\\User\\\\Desktop\\\\Laederach\\\\all_original_size\\\\bild_2018-08-08_120150618.bmp', 'width': '1288', 'height': '960', 'depth': '3', 'number_objects': 10}, 0: {'name': 'H', 'xmin': '383', 'ymin': '609', 'xmax': '639', 'ymax': '865'}, 1: {'name': 'H', 'xmin': '357', 'ymin': '175', 'xmax': '613', 'ymax': '431'}, 2: {'name': 'H', 'xmin': '37', 'ymin': '410', 'xmax': '293', 'ymax': '666'}, 3: {'name': 'H', 'xmin': '712', 'ymin': '373', 'xmax': '968', 'ymax': '629'}, 4: {'name': 'H', 'xmin': '16', 'ymin': '5', 'xmax': '272', 'ymax': '261'}, 5: {'name': 'H', 'xmin': '695', 'ymin': '4', 'xmax': '951', 'ymax': '260'}, 6: {'name': 'H', 'xmin': '1028', 'ymin': '134', 'xmax': '1284', 'ymax': '390'}, 7: {'name': 'H', 'xmin': '1028', 'ymin': '554', 'xmax': '1284', 'ymax': '810'}, 8: {'name': 'H', 'xmin': '727', 'ymin': '701', 'xmax': '983', 'ymax': '957'}, 9: {'name': 'H', 'xmin': '55', 'ymin': '700', 'xmax': '311', 'ymax': '956'}}}\n"
     ]
    }
   ],
   "source": [
    "print(image_dict)"
   ]
  },
  {
   "cell_type": "code",
   "execution_count": 14,
   "metadata": {},
   "outputs": [
    {
     "name": "stdout",
     "output_type": "stream",
     "text": [
      "50\n"
     ]
    }
   ],
   "source": [
    "print(image_dict[0][i]['xmin'])"
   ]
  },
  {
   "cell_type": "code",
   "execution_count": 15,
   "metadata": {},
   "outputs": [
    {
     "name": "stdout",
     "output_type": "stream",
     "text": [
      "55 311 700 956\n"
     ]
    }
   ],
   "source": [
    "print(xmin,xmax,ymin,ymax)"
   ]
  },
  {
   "cell_type": "code",
   "execution_count": 16,
   "metadata": {},
   "outputs": [
    {
     "ename": "NameError",
     "evalue": "name 'datatyp' is not defined",
     "output_type": "error",
     "traceback": [
      "\u001b[1;31m---------------------------------------------------------------------------\u001b[0m",
      "\u001b[1;31mNameError\u001b[0m                                 Traceback (most recent call last)",
      "\u001b[1;32m<ipython-input-16-af565a923e09>\u001b[0m in \u001b[0;36m<module>\u001b[1;34m()\u001b[0m\n\u001b[1;32m----> 1\u001b[1;33m \u001b[0mdatatyp\u001b[0m\u001b[1;33m(\u001b[0m\u001b[0mxmin\u001b[0m\u001b[1;33m)\u001b[0m\u001b[1;33m\u001b[0m\u001b[0m\n\u001b[0m",
      "\u001b[1;31mNameError\u001b[0m: name 'datatyp' is not defined"
     ]
    }
   ],
   "source": [
    "datatyp(xmin)"
   ]
  },
  {
   "cell_type": "code",
   "execution_count": null,
   "metadata": {},
   "outputs": [],
   "source": [
    "type(xmin)"
   ]
  },
  {
   "cell_type": "code",
   "execution_count": null,
   "metadata": {},
   "outputs": [],
   "source": [
    "type(int(xmin))"
   ]
  },
  {
   "cell_type": "code",
   "execution_count": null,
   "metadata": {},
   "outputs": [],
   "source": [
    "rdm = np.random.randint(0, 999999)\n",
    "f'{rdm:06}'"
   ]
  },
  {
   "cell_type": "code",
   "execution_count": null,
   "metadata": {},
   "outputs": [],
   "source": [
    "print(image_dict)"
   ]
  },
  {
   "cell_type": "code",
   "execution_count": null,
   "metadata": {},
   "outputs": [],
   "source": [
    "image = 1\n",
    "i = 0\n",
    "print(image_dict[image][0]['xmin'], image_dict[image][0]['ymin'], image_dict[image][0]['xmax'], image_dict[image][0]['ymax'], image_dict[image][i]['name'])\n",
    "i = 1\n",
    "print(image_dict[image][i]['xmin'], image_dict[image][i]['ymin'], image_dict[image][i]['xmax'], image_dict[image][i]['ymax'], image_dict[image][i]['name'])\n",
    "i = 2\n",
    "print(image_dict[image][i]['xmin'], image_dict[image][i]['ymin'],image_dict[image][i]['xmax'], image_dict[image][i]['ymax'], image_dict[image][i]['name'])\n",
    "i = 3\n",
    "print(image_dict[image][i]['xmin'], image_dict[image][i]['ymin'],image_dict[image][i]['xmax'], image_dict[image][i]['ymax'], image_dict[image][i]['name'])\n",
    "i = 4\n",
    "print(image_dict[image][i]['xmin'], image_dict[image][i]['ymin'],image_dict[image][i]['xmax'], image_dict[image][i]['ymax'], image_dict[image][i]['name'])\n"
   ]
  },
  {
   "cell_type": "code",
   "execution_count": null,
   "metadata": {},
   "outputs": [],
   "source": []
  },
  {
   "cell_type": "code",
   "execution_count": null,
   "metadata": {},
   "outputs": [],
   "source": []
  },
  {
   "cell_type": "code",
   "execution_count": null,
   "metadata": {},
   "outputs": [],
   "source": []
  },
  {
   "cell_type": "code",
   "execution_count": null,
   "metadata": {},
   "outputs": [],
   "source": []
  },
  {
   "cell_type": "code",
   "execution_count": null,
   "metadata": {},
   "outputs": [],
   "source": []
  },
  {
   "cell_type": "code",
   "execution_count": null,
   "metadata": {},
   "outputs": [],
   "source": []
  },
  {
   "cell_type": "code",
   "execution_count": null,
   "metadata": {},
   "outputs": [],
   "source": []
  }
 ],
 "metadata": {
  "kernelspec": {
   "display_name": "Python 3",
   "language": "python",
   "name": "python3"
  }
 },
 "nbformat": 4,
 "nbformat_minor": 2
}
