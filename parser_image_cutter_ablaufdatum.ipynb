{
 "cells": [
  {
   "cell_type": "code",
   "execution_count": 1,
   "metadata": {},
   "outputs": [],
   "source": [
    "import xmltodict\n",
    "from xml.dom.minidom import parseString\n",
    "import os\n",
    "from PIL import Image\n",
    "import numpy as np\n",
    "import time"
   ]
  },
  {
   "cell_type": "markdown",
   "metadata": {},
   "source": [
    "path, dirs, files: <br>\n",
    "https://code.i-harness.com/de/q/282a0d <br>"
   ]
  },
  {
   "cell_type": "code",
   "execution_count": 2,
   "metadata": {},
   "outputs": [],
   "source": [
    "path_folder_xml = 'C:/Users/User/Desktop/Ablaufdatum/ablaufdatum_selber/all_windowed1/' # xml path\n",
    "path_folder_image = 'C:/Users/User/Desktop/Ablaufdatum/ablaufdatum_selber/all1/' # image path\n",
    "save_folder = 'C:/Users/User/Desktop/Ablaufdatum/ablaufdatum_selber/Single/' # image save path"
   ]
  },
  {
   "cell_type": "markdown",
   "metadata": {},
   "source": [
    "xmltodict: <br>\n",
    "https://docs.python-guide.org/scenarios/xml/ <br>\n",
    "number_objects: <br>\n",
    "https://stackoverflow.com/questions/14897426/counting-number-of-xml-tags-in-python-using-xml-dom-minidom <br>\n",
    "list: <br>\n",
    "https://stackoverflow.com/questions/16435607/range-object-does-not-support-item-assignment-trying-to-use-old-python-code <br>\n",
    "dictionary: <br>\n",
    "https://www.programiz.com/python-programming/nested-dictionary <br>"
   ]
  },
  {
   "cell_type": "markdown",
   "metadata": {},
   "source": [
    "nested dict: <br>\n",
    "https://www.programiz.com/python-programming/nested-dictionary <br>"
   ]
  },
  {
   "cell_type": "code",
   "execution_count": 3,
   "metadata": {},
   "outputs": [],
   "source": [
    "# image_dict[Bild]['header'][filename, path, width, heigth, depth, number_objects]\n",
    "# image_dict[Bild][Objekt][name, xmin, ymin, xmax, ymax]\n",
    "image_dict = {0: {'header' : {'filename':'filename', 'path':'path', 'width':'width', 'height':'height', 'depth':'depth', 'number_objects':'number_objects'},\n",
    "                         0 : {'name':'name', 'xmin':0, 'ymin':0, 'xmax':0, 'ymax':0}}}\n",
    "\n",
    "path_folder_xml, dirs, files_xml = next(os.walk(path_folder_xml))\n",
    "number_xml = len(files_xml)\n",
    "\n",
    "for image in range(number_xml):\n",
    "    with open(path_folder_xml + files_xml[image]) as fd:\n",
    "        data = fd.read()\n",
    "        doc = xmltodict.parse(data)\n",
    "        dom = parseString(data)\n",
    "        number_objects = len(dom.getElementsByTagName('object'))\n",
    "\n",
    "        filename = doc['annotation']['filename']\n",
    "        # print(filename)\n",
    "        path = doc['annotation']['path']\n",
    "        # print(path)\n",
    "        width = doc['annotation']['size']['width']\n",
    "        # print(width)\n",
    "        height = doc['annotation']['size']['height']\n",
    "        # print(height)\n",
    "        depth = doc['annotation']['size']['depth']\n",
    "        # print(depth)\n",
    "\n",
    "        #xmin = list(range(number_objects))\n",
    "        #ymin = list(range(number_objects))\n",
    "        #xmax = list(range(number_objects))\n",
    "        #ymax = list(range(number_objects))\n",
    "        #name = list(range(number_objects))\n",
    "        \n",
    "        image_dict[image] = {'header' : {'filename':filename, 'path':path, 'width':width, 'height':height, 'depth':depth, 'number_objects':number_objects},\n",
    "                                    0 : {'name':'name', 'xmin':0, 'ymin':0, 'xmax':0, 'ymax':0}}  \n",
    "        \n",
    "        for objects in range(number_objects):\n",
    "            name = doc['annotation']['object'][objects]['name']\n",
    "            xmin = doc['annotation']['object'][objects]['bndbox']['xmin']\n",
    "            ymin = doc['annotation']['object'][objects]['bndbox']['ymin']\n",
    "            xmax = doc['annotation']['object'][objects]['bndbox']['xmax']\n",
    "            ymax = doc['annotation']['object'][objects]['bndbox']['ymax']\n",
    "            # print(name[i], xmin[i], ymin[i], xmax[i], ymax[i])\n",
    "            \n",
    "            image_dict[image][objects] = {'name':name, 'xmin':xmin, 'ymin':ymin, 'xmax':xmax, 'ymax':ymax}\n"
   ]
  },
  {
   "cell_type": "code",
   "execution_count": 4,
   "metadata": {},
   "outputs": [
    {
     "name": "stdout",
     "output_type": "stream",
     "text": [
      "2\n"
     ]
    }
   ],
   "source": [
    "name = doc['annotation']['object'][1]['name']\n",
    "print(name)"
   ]
  },
  {
   "cell_type": "code",
   "execution_count": 5,
   "metadata": {},
   "outputs": [],
   "source": [
    "path_folder_image, dirs, files_image = next(os.walk(path_folder_image))\n",
    "number_images = len(files_image)\n",
    "\n",
    "for image in range(number_images):\n",
    "    with Image.open(path_folder_image + files_image[image]) as file:\n",
    "        anzahl_objects = image_dict[image]['header']['number_objects']\n",
    "        for i in range(anzahl_objects):\n",
    "            img = np.array(file)\n",
    "            xmin = int(image_dict[image][i]['xmin'])\n",
    "            ymin = int(image_dict[image][i]['ymin'])\n",
    "            xmax = int(image_dict[image][i]['xmax'])\n",
    "            ymax = int(image_dict[image][i]['ymax'])\n",
    "            name = image_dict[image][i]['name']\n",
    "            filename = doc['annotation']['filename']\n",
    "            img_mini = img[ymin:ymax, xmin:xmax]\n",
    "            img_size_uint8 = Image.fromarray(np.uint8(img_mini))\n",
    "            \n",
    "            if name == '/':\n",
    "                name = 'BACKSLASH'\n",
    "                img_size_uint8.save(save_folder + name + filename + '_' + name + '_' + f'{xmin:03}' + '_' + f'{ymin:03}' + '_' + f'{xmax:03}' + '_' + f'{ymax:03}' + '.jpg')\n",
    "            \n",
    "            elif name == ':':\n",
    "                name = 'COLON'\n",
    "                img_size_uint8.save(save_folder + name + filename + '_' + name + '_' + f'{xmin:03}' + '_' + f'{ymin:03}' + '_' + f'{xmax:03}' + '_' + f'{ymax:03}' + '.jpg')\n",
    "                \n",
    "            elif name == '-':\n",
    "                name = 'DASH'\n",
    "                img_size_uint8.save(save_folder + name + filename + '_' + name + '_' + f'{xmin:03}' + '_' + f'{ymin:03}' + '_' + f'{xmax:03}' + '_' + f'{ymax:03}' + '.jpg')\n",
    "                    \n",
    "            elif name == '.':\n",
    "                name = 'DOT'\n",
    "                img_size_uint8.save(save_folder + name + filename + '_' + name + '_' + f'{xmin:03}' + '_' + f'{ymin:03}' + '_' + f'{xmax:03}' + '_' + f'{ymax:03}' + '.jpg')\n",
    "                \n",
    "            else:\n",
    "                img_size_uint8.save(save_folder + name + filename + '_' + name + '_' + f'{xmin:03}' + '_' + f'{ymin:03}' + '_' + f'{xmax:03}' + '_' + f'{ymax:03}' + '.jpg')\n",
    "            \n",
    "    \n",
    "    "
   ]
  },
  {
   "cell_type": "code",
   "execution_count": null,
   "metadata": {},
   "outputs": [],
   "source": []
  }
 ],
 "metadata": {
  "kernelspec": {
   "display_name": "Python 3",
   "language": "python",
   "name": "python3"
  },
  "language_info": {
   "codemirror_mode": {
    "name": "ipython",
    "version": 3
   },
   "file_extension": ".py",
   "mimetype": "text/x-python",
   "name": "python",
   "nbconvert_exporter": "python",
   "pygments_lexer": "ipython3",
   "version": "3.6.4"
  }
 },
 "nbformat": 4,
 "nbformat_minor": 2
}
